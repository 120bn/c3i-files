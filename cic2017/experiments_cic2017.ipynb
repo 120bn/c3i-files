{
  "cells": [
    {
      "cell_type": "markdown",
      "metadata": {},
      "source": [
        "# Experiments on CIC 2017 Dataset"
      ]
    },
    {
      "cell_type": "code",
      "execution_count": 2,
      "metadata": {
        "colab": {
          "base_uri": "https://localhost:8080/"
        },
        "id": "bt2NJ2jwr8gM",
        "outputId": "d4666a1a-2f4d-461b-e188-c699c68d463f"
      },
      "outputs": [
        {
          "name": "stdout",
          "output_type": "stream",
          "text": [
            "Archive:  MachineLearningCSV.zip\n",
            "   creating: MachineLearningCVE/\n",
            "  inflating: MachineLearningCVE/Wednesday-workingHours.pcap_ISCX.csv  \n",
            "  inflating: MachineLearningCVE/Tuesday-WorkingHours.pcap_ISCX.csv  \n",
            "  inflating: MachineLearningCVE/Thursday-WorkingHours-Morning-WebAttacks.pcap_ISCX.csv  \n",
            "  inflating: MachineLearningCVE/Thursday-WorkingHours-Afternoon-Infilteration.pcap_ISCX.csv  \n",
            "  inflating: MachineLearningCVE/Monday-WorkingHours.pcap_ISCX.csv  \n",
            "  inflating: MachineLearningCVE/Friday-WorkingHours-Morning.pcap_ISCX.csv  \n",
            "  inflating: MachineLearningCVE/Friday-WorkingHours-Afternoon-PortScan.pcap_ISCX.csv  \n",
            "  inflating: MachineLearningCVE/Friday-WorkingHours-Afternoon-DDos.pcap_ISCX.csv  \n"
          ]
        }
      ],
      "source": [
        "!unzip MachineLearningCSV.zip"
      ]
    },
    {
      "cell_type": "code",
      "execution_count": null,
      "metadata": {
        "id": "qbKxTdHlsC9a"
      },
      "outputs": [],
      "source": [
        "import os\n",
        "import numpy as np\n",
        "dir = \"/content/MachineLearningCVE/\"\n",
        "a = os.listdir(dir)\n",
        "import pandas as pd\n",
        "li = []\n",
        "\n",
        "for filename in a:\n",
        "    df = pd.read_csv(dir+filename, index_col=None, header=0)\n",
        "    li.append(df)\n",
        "\n",
        "frame = pd.concat(li, axis=0, ignore_index=True)\n",
        "# frame = pd.read_csv(dir+a[3], index_col=None, header=0)"
      ]
    },
    {
      "cell_type": "code",
      "execution_count": null,
      "metadata": {
        "colab": {
          "base_uri": "https://localhost:8080/"
        },
        "id": "s15eTwxQst1I",
        "outputId": "07eaba93-71c6-4381-b6c8-1ee8e397ea6b"
      },
      "outputs": [
        {
          "data": {
            "text/plain": [
              "BENIGN                        2273097\n",
              "DoS Hulk                       231073\n",
              "PortScan                       158930\n",
              "DDoS                           128027\n",
              "DoS GoldenEye                   10293\n",
              "FTP-Patator                      7938\n",
              "SSH-Patator                      5897\n",
              "DoS slowloris                    5796\n",
              "DoS Slowhttptest                 5499\n",
              "Bot                              1966\n",
              "Web Attack � Brute Force         1507\n",
              "Web Attack � XSS                  652\n",
              "Infiltration                       36\n",
              "Web Attack � Sql Injection         21\n",
              "Heartbleed                         11\n",
              "Name:  Label, dtype: int64"
            ]
          },
          "execution_count": 43,
          "metadata": {},
          "output_type": "execute_result"
        }
      ],
      "source": [
        "frame[\" Label\"].value_counts()"
      ]
    },
    {
      "cell_type": "code",
      "execution_count": null,
      "metadata": {
        "colab": {
          "base_uri": "https://localhost:8080/",
          "height": 540
        },
        "id": "3LVdnFYpezd-",
        "outputId": "bcf15006-2daf-4150-e11e-679d2b41393e"
      },
      "outputs": [
        {
          "data": {
            "text/html": [
              "\n",
              "  <div id=\"df-c37204a3-4ab4-4a93-8835-03f682ce28c4\">\n",
              "    <div class=\"colab-df-container\">\n",
              "      <div>\n",
              "<style scoped>\n",
              "    .dataframe tbody tr th:only-of-type {\n",
              "        vertical-align: middle;\n",
              "    }\n",
              "\n",
              "    .dataframe tbody tr th {\n",
              "        vertical-align: top;\n",
              "    }\n",
              "\n",
              "    .dataframe thead th {\n",
              "        text-align: right;\n",
              "    }\n",
              "</style>\n",
              "<table border=\"1\" class=\"dataframe\">\n",
              "  <thead>\n",
              "    <tr style=\"text-align: right;\">\n",
              "      <th></th>\n",
              "      <th>Destination Port</th>\n",
              "      <th>Flow Duration</th>\n",
              "      <th>Total Fwd Packets</th>\n",
              "      <th>Total Backward Packets</th>\n",
              "      <th>Total Length of Fwd Packets</th>\n",
              "      <th>Total Length of Bwd Packets</th>\n",
              "      <th>Fwd Packet Length Max</th>\n",
              "      <th>Fwd Packet Length Min</th>\n",
              "      <th>Fwd Packet Length Mean</th>\n",
              "      <th>Fwd Packet Length Std</th>\n",
              "      <th>...</th>\n",
              "      <th>min_seg_size_forward</th>\n",
              "      <th>Active Mean</th>\n",
              "      <th>Active Std</th>\n",
              "      <th>Active Max</th>\n",
              "      <th>Active Min</th>\n",
              "      <th>Idle Mean</th>\n",
              "      <th>Idle Std</th>\n",
              "      <th>Idle Max</th>\n",
              "      <th>Idle Min</th>\n",
              "      <th>Label</th>\n",
              "    </tr>\n",
              "  </thead>\n",
              "  <tbody>\n",
              "    <tr>\n",
              "      <th>0</th>\n",
              "      <td>54865</td>\n",
              "      <td>3</td>\n",
              "      <td>2</td>\n",
              "      <td>0</td>\n",
              "      <td>12</td>\n",
              "      <td>0</td>\n",
              "      <td>6</td>\n",
              "      <td>6</td>\n",
              "      <td>6.0</td>\n",
              "      <td>0.0</td>\n",
              "      <td>...</td>\n",
              "      <td>20</td>\n",
              "      <td>0.0</td>\n",
              "      <td>0.0</td>\n",
              "      <td>0</td>\n",
              "      <td>0</td>\n",
              "      <td>0.0</td>\n",
              "      <td>0.0</td>\n",
              "      <td>0</td>\n",
              "      <td>0</td>\n",
              "      <td>BENIGN</td>\n",
              "    </tr>\n",
              "    <tr>\n",
              "      <th>1</th>\n",
              "      <td>55054</td>\n",
              "      <td>109</td>\n",
              "      <td>1</td>\n",
              "      <td>1</td>\n",
              "      <td>6</td>\n",
              "      <td>6</td>\n",
              "      <td>6</td>\n",
              "      <td>6</td>\n",
              "      <td>6.0</td>\n",
              "      <td>0.0</td>\n",
              "      <td>...</td>\n",
              "      <td>20</td>\n",
              "      <td>0.0</td>\n",
              "      <td>0.0</td>\n",
              "      <td>0</td>\n",
              "      <td>0</td>\n",
              "      <td>0.0</td>\n",
              "      <td>0.0</td>\n",
              "      <td>0</td>\n",
              "      <td>0</td>\n",
              "      <td>BENIGN</td>\n",
              "    </tr>\n",
              "    <tr>\n",
              "      <th>2</th>\n",
              "      <td>55055</td>\n",
              "      <td>52</td>\n",
              "      <td>1</td>\n",
              "      <td>1</td>\n",
              "      <td>6</td>\n",
              "      <td>6</td>\n",
              "      <td>6</td>\n",
              "      <td>6</td>\n",
              "      <td>6.0</td>\n",
              "      <td>0.0</td>\n",
              "      <td>...</td>\n",
              "      <td>20</td>\n",
              "      <td>0.0</td>\n",
              "      <td>0.0</td>\n",
              "      <td>0</td>\n",
              "      <td>0</td>\n",
              "      <td>0.0</td>\n",
              "      <td>0.0</td>\n",
              "      <td>0</td>\n",
              "      <td>0</td>\n",
              "      <td>BENIGN</td>\n",
              "    </tr>\n",
              "    <tr>\n",
              "      <th>3</th>\n",
              "      <td>46236</td>\n",
              "      <td>34</td>\n",
              "      <td>1</td>\n",
              "      <td>1</td>\n",
              "      <td>6</td>\n",
              "      <td>6</td>\n",
              "      <td>6</td>\n",
              "      <td>6</td>\n",
              "      <td>6.0</td>\n",
              "      <td>0.0</td>\n",
              "      <td>...</td>\n",
              "      <td>20</td>\n",
              "      <td>0.0</td>\n",
              "      <td>0.0</td>\n",
              "      <td>0</td>\n",
              "      <td>0</td>\n",
              "      <td>0.0</td>\n",
              "      <td>0.0</td>\n",
              "      <td>0</td>\n",
              "      <td>0</td>\n",
              "      <td>BENIGN</td>\n",
              "    </tr>\n",
              "    <tr>\n",
              "      <th>4</th>\n",
              "      <td>54863</td>\n",
              "      <td>3</td>\n",
              "      <td>2</td>\n",
              "      <td>0</td>\n",
              "      <td>12</td>\n",
              "      <td>0</td>\n",
              "      <td>6</td>\n",
              "      <td>6</td>\n",
              "      <td>6.0</td>\n",
              "      <td>0.0</td>\n",
              "      <td>...</td>\n",
              "      <td>20</td>\n",
              "      <td>0.0</td>\n",
              "      <td>0.0</td>\n",
              "      <td>0</td>\n",
              "      <td>0</td>\n",
              "      <td>0.0</td>\n",
              "      <td>0.0</td>\n",
              "      <td>0</td>\n",
              "      <td>0</td>\n",
              "      <td>BENIGN</td>\n",
              "    </tr>\n",
              "    <tr>\n",
              "      <th>...</th>\n",
              "      <td>...</td>\n",
              "      <td>...</td>\n",
              "      <td>...</td>\n",
              "      <td>...</td>\n",
              "      <td>...</td>\n",
              "      <td>...</td>\n",
              "      <td>...</td>\n",
              "      <td>...</td>\n",
              "      <td>...</td>\n",
              "      <td>...</td>\n",
              "      <td>...</td>\n",
              "      <td>...</td>\n",
              "      <td>...</td>\n",
              "      <td>...</td>\n",
              "      <td>...</td>\n",
              "      <td>...</td>\n",
              "      <td>...</td>\n",
              "      <td>...</td>\n",
              "      <td>...</td>\n",
              "      <td>...</td>\n",
              "      <td>...</td>\n",
              "    </tr>\n",
              "    <tr>\n",
              "      <th>2830738</th>\n",
              "      <td>53</td>\n",
              "      <td>155</td>\n",
              "      <td>2</td>\n",
              "      <td>2</td>\n",
              "      <td>88</td>\n",
              "      <td>120</td>\n",
              "      <td>44</td>\n",
              "      <td>44</td>\n",
              "      <td>44.0</td>\n",
              "      <td>0.0</td>\n",
              "      <td>...</td>\n",
              "      <td>32</td>\n",
              "      <td>0.0</td>\n",
              "      <td>0.0</td>\n",
              "      <td>0</td>\n",
              "      <td>0</td>\n",
              "      <td>0.0</td>\n",
              "      <td>0.0</td>\n",
              "      <td>0</td>\n",
              "      <td>0</td>\n",
              "      <td>BENIGN</td>\n",
              "    </tr>\n",
              "    <tr>\n",
              "      <th>2830739</th>\n",
              "      <td>59317</td>\n",
              "      <td>110</td>\n",
              "      <td>1</td>\n",
              "      <td>1</td>\n",
              "      <td>0</td>\n",
              "      <td>0</td>\n",
              "      <td>0</td>\n",
              "      <td>0</td>\n",
              "      <td>0.0</td>\n",
              "      <td>0.0</td>\n",
              "      <td>...</td>\n",
              "      <td>20</td>\n",
              "      <td>0.0</td>\n",
              "      <td>0.0</td>\n",
              "      <td>0</td>\n",
              "      <td>0</td>\n",
              "      <td>0.0</td>\n",
              "      <td>0.0</td>\n",
              "      <td>0</td>\n",
              "      <td>0</td>\n",
              "      <td>BENIGN</td>\n",
              "    </tr>\n",
              "    <tr>\n",
              "      <th>2830740</th>\n",
              "      <td>53</td>\n",
              "      <td>166</td>\n",
              "      <td>2</td>\n",
              "      <td>2</td>\n",
              "      <td>88</td>\n",
              "      <td>188</td>\n",
              "      <td>44</td>\n",
              "      <td>44</td>\n",
              "      <td>44.0</td>\n",
              "      <td>0.0</td>\n",
              "      <td>...</td>\n",
              "      <td>32</td>\n",
              "      <td>0.0</td>\n",
              "      <td>0.0</td>\n",
              "      <td>0</td>\n",
              "      <td>0</td>\n",
              "      <td>0.0</td>\n",
              "      <td>0.0</td>\n",
              "      <td>0</td>\n",
              "      <td>0</td>\n",
              "      <td>BENIGN</td>\n",
              "    </tr>\n",
              "    <tr>\n",
              "      <th>2830741</th>\n",
              "      <td>54726</td>\n",
              "      <td>81</td>\n",
              "      <td>1</td>\n",
              "      <td>1</td>\n",
              "      <td>0</td>\n",
              "      <td>0</td>\n",
              "      <td>0</td>\n",
              "      <td>0</td>\n",
              "      <td>0.0</td>\n",
              "      <td>0.0</td>\n",
              "      <td>...</td>\n",
              "      <td>32</td>\n",
              "      <td>0.0</td>\n",
              "      <td>0.0</td>\n",
              "      <td>0</td>\n",
              "      <td>0</td>\n",
              "      <td>0.0</td>\n",
              "      <td>0.0</td>\n",
              "      <td>0</td>\n",
              "      <td>0</td>\n",
              "      <td>BENIGN</td>\n",
              "    </tr>\n",
              "    <tr>\n",
              "      <th>2830742</th>\n",
              "      <td>53</td>\n",
              "      <td>202</td>\n",
              "      <td>2</td>\n",
              "      <td>2</td>\n",
              "      <td>102</td>\n",
              "      <td>158</td>\n",
              "      <td>51</td>\n",
              "      <td>51</td>\n",
              "      <td>51.0</td>\n",
              "      <td>0.0</td>\n",
              "      <td>...</td>\n",
              "      <td>20</td>\n",
              "      <td>0.0</td>\n",
              "      <td>0.0</td>\n",
              "      <td>0</td>\n",
              "      <td>0</td>\n",
              "      <td>0.0</td>\n",
              "      <td>0.0</td>\n",
              "      <td>0</td>\n",
              "      <td>0</td>\n",
              "      <td>BENIGN</td>\n",
              "    </tr>\n",
              "  </tbody>\n",
              "</table>\n",
              "<p>2830743 rows × 79 columns</p>\n",
              "</div>\n",
              "      <button class=\"colab-df-convert\" onclick=\"convertToInteractive('df-c37204a3-4ab4-4a93-8835-03f682ce28c4')\"\n",
              "              title=\"Convert this dataframe to an interactive table.\"\n",
              "              style=\"display:none;\">\n",
              "        \n",
              "  <svg xmlns=\"http://www.w3.org/2000/svg\" height=\"24px\"viewBox=\"0 0 24 24\"\n",
              "       width=\"24px\">\n",
              "    <path d=\"M0 0h24v24H0V0z\" fill=\"none\"/>\n",
              "    <path d=\"M18.56 5.44l.94 2.06.94-2.06 2.06-.94-2.06-.94-.94-2.06-.94 2.06-2.06.94zm-11 1L8.5 8.5l.94-2.06 2.06-.94-2.06-.94L8.5 2.5l-.94 2.06-2.06.94zm10 10l.94 2.06.94-2.06 2.06-.94-2.06-.94-.94-2.06-.94 2.06-2.06.94z\"/><path d=\"M17.41 7.96l-1.37-1.37c-.4-.4-.92-.59-1.43-.59-.52 0-1.04.2-1.43.59L10.3 9.45l-7.72 7.72c-.78.78-.78 2.05 0 2.83L4 21.41c.39.39.9.59 1.41.59.51 0 1.02-.2 1.41-.59l7.78-7.78 2.81-2.81c.8-.78.8-2.07 0-2.86zM5.41 20L4 18.59l7.72-7.72 1.47 1.35L5.41 20z\"/>\n",
              "  </svg>\n",
              "      </button>\n",
              "      \n",
              "  <style>\n",
              "    .colab-df-container {\n",
              "      display:flex;\n",
              "      flex-wrap:wrap;\n",
              "      gap: 12px;\n",
              "    }\n",
              "\n",
              "    .colab-df-convert {\n",
              "      background-color: #E8F0FE;\n",
              "      border: none;\n",
              "      border-radius: 50%;\n",
              "      cursor: pointer;\n",
              "      display: none;\n",
              "      fill: #1967D2;\n",
              "      height: 32px;\n",
              "      padding: 0 0 0 0;\n",
              "      width: 32px;\n",
              "    }\n",
              "\n",
              "    .colab-df-convert:hover {\n",
              "      background-color: #E2EBFA;\n",
              "      box-shadow: 0px 1px 2px rgba(60, 64, 67, 0.3), 0px 1px 3px 1px rgba(60, 64, 67, 0.15);\n",
              "      fill: #174EA6;\n",
              "    }\n",
              "\n",
              "    [theme=dark] .colab-df-convert {\n",
              "      background-color: #3B4455;\n",
              "      fill: #D2E3FC;\n",
              "    }\n",
              "\n",
              "    [theme=dark] .colab-df-convert:hover {\n",
              "      background-color: #434B5C;\n",
              "      box-shadow: 0px 1px 3px 1px rgba(0, 0, 0, 0.15);\n",
              "      filter: drop-shadow(0px 1px 2px rgba(0, 0, 0, 0.3));\n",
              "      fill: #FFFFFF;\n",
              "    }\n",
              "  </style>\n",
              "\n",
              "      <script>\n",
              "        const buttonEl =\n",
              "          document.querySelector('#df-c37204a3-4ab4-4a93-8835-03f682ce28c4 button.colab-df-convert');\n",
              "        buttonEl.style.display =\n",
              "          google.colab.kernel.accessAllowed ? 'block' : 'none';\n",
              "\n",
              "        async function convertToInteractive(key) {\n",
              "          const element = document.querySelector('#df-c37204a3-4ab4-4a93-8835-03f682ce28c4');\n",
              "          const dataTable =\n",
              "            await google.colab.kernel.invokeFunction('convertToInteractive',\n",
              "                                                     [key], {});\n",
              "          if (!dataTable) return;\n",
              "\n",
              "          const docLinkHtml = 'Like what you see? Visit the ' +\n",
              "            '<a target=\"_blank\" href=https://colab.research.google.com/notebooks/data_table.ipynb>data table notebook</a>'\n",
              "            + ' to learn more about interactive tables.';\n",
              "          element.innerHTML = '';\n",
              "          dataTable['output_type'] = 'display_data';\n",
              "          await google.colab.output.renderOutput(dataTable, element);\n",
              "          const docLink = document.createElement('div');\n",
              "          docLink.innerHTML = docLinkHtml;\n",
              "          element.appendChild(docLink);\n",
              "        }\n",
              "      </script>\n",
              "    </div>\n",
              "  </div>\n",
              "  "
            ],
            "text/plain": [
              "          Destination Port   Flow Duration   Total Fwd Packets  \\\n",
              "0                    54865               3                   2   \n",
              "1                    55054             109                   1   \n",
              "2                    55055              52                   1   \n",
              "3                    46236              34                   1   \n",
              "4                    54863               3                   2   \n",
              "...                    ...             ...                 ...   \n",
              "2830738                 53             155                   2   \n",
              "2830739              59317             110                   1   \n",
              "2830740                 53             166                   2   \n",
              "2830741              54726              81                   1   \n",
              "2830742                 53             202                   2   \n",
              "\n",
              "          Total Backward Packets  Total Length of Fwd Packets  \\\n",
              "0                              0                           12   \n",
              "1                              1                            6   \n",
              "2                              1                            6   \n",
              "3                              1                            6   \n",
              "4                              0                           12   \n",
              "...                          ...                          ...   \n",
              "2830738                        2                           88   \n",
              "2830739                        1                            0   \n",
              "2830740                        2                           88   \n",
              "2830741                        1                            0   \n",
              "2830742                        2                          102   \n",
              "\n",
              "          Total Length of Bwd Packets   Fwd Packet Length Max  \\\n",
              "0                                   0                       6   \n",
              "1                                   6                       6   \n",
              "2                                   6                       6   \n",
              "3                                   6                       6   \n",
              "4                                   0                       6   \n",
              "...                               ...                     ...   \n",
              "2830738                           120                      44   \n",
              "2830739                             0                       0   \n",
              "2830740                           188                      44   \n",
              "2830741                             0                       0   \n",
              "2830742                           158                      51   \n",
              "\n",
              "          Fwd Packet Length Min   Fwd Packet Length Mean  \\\n",
              "0                             6                      6.0   \n",
              "1                             6                      6.0   \n",
              "2                             6                      6.0   \n",
              "3                             6                      6.0   \n",
              "4                             6                      6.0   \n",
              "...                         ...                      ...   \n",
              "2830738                      44                     44.0   \n",
              "2830739                       0                      0.0   \n",
              "2830740                      44                     44.0   \n",
              "2830741                       0                      0.0   \n",
              "2830742                      51                     51.0   \n",
              "\n",
              "          Fwd Packet Length Std  ...   min_seg_size_forward  Active Mean  \\\n",
              "0                           0.0  ...                     20          0.0   \n",
              "1                           0.0  ...                     20          0.0   \n",
              "2                           0.0  ...                     20          0.0   \n",
              "3                           0.0  ...                     20          0.0   \n",
              "4                           0.0  ...                     20          0.0   \n",
              "...                         ...  ...                    ...          ...   \n",
              "2830738                     0.0  ...                     32          0.0   \n",
              "2830739                     0.0  ...                     20          0.0   \n",
              "2830740                     0.0  ...                     32          0.0   \n",
              "2830741                     0.0  ...                     32          0.0   \n",
              "2830742                     0.0  ...                     20          0.0   \n",
              "\n",
              "          Active Std   Active Max   Active Min  Idle Mean   Idle Std  \\\n",
              "0                0.0            0            0        0.0        0.0   \n",
              "1                0.0            0            0        0.0        0.0   \n",
              "2                0.0            0            0        0.0        0.0   \n",
              "3                0.0            0            0        0.0        0.0   \n",
              "4                0.0            0            0        0.0        0.0   \n",
              "...              ...          ...          ...        ...        ...   \n",
              "2830738          0.0            0            0        0.0        0.0   \n",
              "2830739          0.0            0            0        0.0        0.0   \n",
              "2830740          0.0            0            0        0.0        0.0   \n",
              "2830741          0.0            0            0        0.0        0.0   \n",
              "2830742          0.0            0            0        0.0        0.0   \n",
              "\n",
              "          Idle Max   Idle Min   Label  \n",
              "0                0          0  BENIGN  \n",
              "1                0          0  BENIGN  \n",
              "2                0          0  BENIGN  \n",
              "3                0          0  BENIGN  \n",
              "4                0          0  BENIGN  \n",
              "...            ...        ...     ...  \n",
              "2830738          0          0  BENIGN  \n",
              "2830739          0          0  BENIGN  \n",
              "2830740          0          0  BENIGN  \n",
              "2830741          0          0  BENIGN  \n",
              "2830742          0          0  BENIGN  \n",
              "\n",
              "[2830743 rows x 79 columns]"
            ]
          },
          "execution_count": 44,
          "metadata": {},
          "output_type": "execute_result"
        }
      ],
      "source": [
        "frame"
      ]
    },
    {
      "cell_type": "code",
      "execution_count": null,
      "metadata": {
        "id": "96JZbYeFuKlj"
      },
      "outputs": [],
      "source": [
        "frame.columns"
      ]
    },
    {
      "cell_type": "code",
      "execution_count": null,
      "metadata": {
        "id": "RF6IZz5nDLfv"
      },
      "outputs": [],
      "source": [
        "X = frame.replace([np.inf, -np.inf], np.NaN)\n",
        "X = X.dropna()"
      ]
    },
    {
      "cell_type": "code",
      "execution_count": null,
      "metadata": {
        "id": "URBJh1viuMs_"
      },
      "outputs": [],
      "source": [
        "# X = X.drop([\" Bwd PSH Flags\", \" Bwd URG Flags\",\"Fwd Avg Bytes/Bulk\",\" Fwd Avg Packets/Bulk\",\" Fwd Avg Bulk Rate\", \" Bwd Avg Bytes/Bulk\",\" Bwd Avg Packets/Bulk\",\"Bwd Avg Bulk Rate\", \" Label\" ], axis=1)"
      ]
    },
    {
      "cell_type": "code",
      "execution_count": null,
      "metadata": {
        "id": "J90a4-tbupPz"
      },
      "outputs": [],
      "source": [
        "def replace_negative_values_with_zero(df):\n",
        "    numeric_values = df.select_dtypes(include=[np.number]).columns.values\n",
        "    \n",
        "    columns = [c for c in numeric_values if df[df[c] < 0][c].count() > 0]\n",
        "    for col in columns:\n",
        "        mask = df[col] < 0\n",
        "        df.loc[mask, col] = np.nan\n",
        "        # mean = df[col].mean()\n",
        "        df[col].fillna(0, inplace=True)\n",
        "    return df      "
      ]
    },
    {
      "cell_type": "code",
      "execution_count": null,
      "metadata": {
        "id": "VZmA_VjGHIqj"
      },
      "outputs": [],
      "source": [
        "X = replace_negative_values_with_zero(X)"
      ]
    },
    {
      "cell_type": "code",
      "execution_count": null,
      "metadata": {
        "colab": {
          "base_uri": "https://localhost:8080/"
        },
        "id": "ii5__2R1Hr_t",
        "outputId": "e3769407-b8f6-4ccf-a19b-12e27e89c3b3"
      },
      "outputs": [
        {
          "data": {
            "text/plain": [
              "88"
            ]
          },
          "execution_count": 8,
          "metadata": {},
          "output_type": "execute_result"
        }
      ],
      "source": [
        "import gc\n",
        "gc.collect()"
      ]
    },
    {
      "cell_type": "code",
      "execution_count": null,
      "metadata": {
        "colab": {
          "base_uri": "https://localhost:8080/"
        },
        "id": "7F3pEQN9ulYm",
        "outputId": "9589b740-1f5a-4b93-e732-f03c7b7f7e9e"
      },
      "outputs": [
        {
          "data": {
            "text/plain": [
              "15"
            ]
          },
          "execution_count": 8,
          "metadata": {},
          "output_type": "execute_result"
        }
      ],
      "source": [
        "len(frame[' Label'].value_counts())"
      ]
    },
    {
      "cell_type": "markdown",
      "metadata": {
        "id": "7vC_NRZ5kb8h"
      },
      "source": [
        "## Supervised learning algorithms"
      ]
    },
    {
      "cell_type": "code",
      "execution_count": null,
      "metadata": {
        "id": "XU2aVqcekdd2"
      },
      "outputs": [],
      "source": [
        "from sklearn.ensemble import RandomForestClassifier\n",
        "from sklearn.preprocessing import MinMaxScaler\n",
        "from sklearn.metrics import *\n",
        "from sklearn.preprocessing import LabelEncoder"
      ]
    },
    {
      "cell_type": "code",
      "execution_count": null,
      "metadata": {
        "id": "ZDIqvMZhAvdt"
      },
      "outputs": [],
      "source": [
        "enc = LabelEncoder()\n",
        "label = X[\" Label\"]\n",
        "multi = enc.fit_transform(label)"
      ]
    },
    {
      "cell_type": "code",
      "execution_count": null,
      "metadata": {
        "colab": {
          "base_uri": "https://localhost:8080/"
        },
        "id": "mJyExNfiA-EH",
        "outputId": "a2fbd0fc-a815-4d5b-ffe0-9cd0fe4991db"
      },
      "outputs": [
        {
          "name": "stderr",
          "output_type": "stream",
          "text": [
            "100%|██████████| 2827876/2827876 [00:01<00:00, 1898444.37it/s]\n"
          ]
        }
      ],
      "source": [
        "from tqdm import tqdm \n",
        "bin = []\n",
        "\n",
        "for i in tqdm(label):\n",
        "    if i == \"BENIGN\":\n",
        "        bin.append(0)\n",
        "    else:\n",
        "        bin.append(1)\n"
      ]
    },
    {
      "cell_type": "code",
      "execution_count": null,
      "metadata": {
        "id": "yptwwXUfBQtD"
      },
      "outputs": [],
      "source": [
        "bin = np.array(bin)"
      ]
    },
    {
      "cell_type": "code",
      "execution_count": null,
      "metadata": {
        "colab": {
          "base_uri": "https://localhost:8080/"
        },
        "id": "D2-kxSEuBTdx",
        "outputId": "9721d28d-19b3-4728-a315-fff1da3a4c9c"
      },
      "outputs": [
        {
          "data": {
            "text/plain": [
              "(2827876,)"
            ]
          },
          "execution_count": 13,
          "metadata": {},
          "output_type": "execute_result"
        }
      ],
      "source": [
        "bin.shape"
      ]
    },
    {
      "cell_type": "code",
      "execution_count": null,
      "metadata": {
        "colab": {
          "base_uri": "https://localhost:8080/"
        },
        "id": "rT1RLEznBUAz",
        "outputId": "83a76cd6-f50d-448e-a393-5a3b7db0b80c"
      },
      "outputs": [
        {
          "data": {
            "text/plain": [
              "(2827876,)"
            ]
          },
          "execution_count": 14,
          "metadata": {},
          "output_type": "execute_result"
        }
      ],
      "source": [
        "multi.shape"
      ]
    },
    {
      "cell_type": "code",
      "execution_count": null,
      "metadata": {
        "id": "okIp2_g0BbfU"
      },
      "outputs": [],
      "source": [
        "from sklearn.model_selection import train_test_split\n",
        "X_train, X_test, y_train, y_test = train_test_split(X, bin, test_size=0.33, random_state=42)\n"
      ]
    },
    {
      "cell_type": "code",
      "execution_count": null,
      "metadata": {
        "id": "3PbOKW-1Bt8j"
      },
      "outputs": [],
      "source": [
        "X_train = X_train.drop([\" Bwd PSH Flags\",\" Fwd Header Length.1\", \" Bwd URG Flags\",\"Fwd Avg Bytes/Bulk\",\" Fwd Avg Packets/Bulk\",\" Fwd Avg Bulk Rate\", \" Bwd Avg Bytes/Bulk\",\" Bwd Avg Packets/Bulk\",\"Bwd Avg Bulk Rate\", \" Label\" ], axis=1)"
      ]
    },
    {
      "cell_type": "code",
      "execution_count": null,
      "metadata": {
        "id": "TssmLwl6DTgp"
      },
      "outputs": [],
      "source": [
        "X_test = X_test.drop([\" Bwd PSH Flags\", \" Bwd URG Flags\",\"Fwd Avg Bytes/Bulk\",\" Fwd Avg Packets/Bulk\",\" Fwd Avg Bulk Rate\",\" Fwd Header Length.1\", \" Bwd Avg Bytes/Bulk\",\" Bwd Avg Packets/Bulk\",\"Bwd Avg Bulk Rate\", \" Label\" ], axis=1)"
      ]
    },
    {
      "cell_type": "code",
      "execution_count": null,
      "metadata": {
        "id": "pzemVlciPnm-"
      },
      "outputs": [],
      "source": [
        "X = X.drop([\" Bwd PSH Flags\",\" Fwd Header Length.1\", \" Bwd URG Flags\",\"Fwd Avg Bytes/Bulk\",\" Fwd Avg Packets/Bulk\",\" Fwd Avg Bulk Rate\", \" Bwd Avg Bytes/Bulk\",\" Bwd Avg Packets/Bulk\",\"Bwd Avg Bulk Rate\", \" Label\" ], axis=1)"
      ]
    },
    {
      "cell_type": "code",
      "execution_count": null,
      "metadata": {
        "colab": {
          "base_uri": "https://localhost:8080/"
        },
        "id": "8iLTkcFYSU13",
        "outputId": "f0edfbcf-f1f6-494f-ad41-b40141d66349"
      },
      "outputs": [
        {
          "data": {
            "text/plain": [
              "Index([' Destination Port', ' Flow Duration', ' Total Fwd Packets',\n",
              "       ' Total Backward Packets', 'Total Length of Fwd Packets',\n",
              "       ' Total Length of Bwd Packets', ' Fwd Packet Length Max',\n",
              "       ' Fwd Packet Length Min', ' Fwd Packet Length Mean',\n",
              "       ' Fwd Packet Length Std', 'Bwd Packet Length Max',\n",
              "       ' Bwd Packet Length Min', ' Bwd Packet Length Mean',\n",
              "       ' Bwd Packet Length Std', 'Flow Bytes/s', ' Flow Packets/s',\n",
              "       ' Flow IAT Mean', ' Flow IAT Std', ' Flow IAT Max', ' Flow IAT Min',\n",
              "       'Fwd IAT Total', ' Fwd IAT Mean', ' Fwd IAT Std', ' Fwd IAT Max',\n",
              "       ' Fwd IAT Min', 'Bwd IAT Total', ' Bwd IAT Mean', ' Bwd IAT Std',\n",
              "       ' Bwd IAT Max', ' Bwd IAT Min', 'Fwd PSH Flags', ' Bwd PSH Flags',\n",
              "       ' Fwd URG Flags', ' Bwd URG Flags', ' Fwd Header Length',\n",
              "       ' Bwd Header Length', 'Fwd Packets/s', ' Bwd Packets/s',\n",
              "       ' Min Packet Length', ' Max Packet Length', ' Packet Length Mean',\n",
              "       ' Packet Length Std', ' Packet Length Variance', 'FIN Flag Count',\n",
              "       ' SYN Flag Count', ' RST Flag Count', ' PSH Flag Count',\n",
              "       ' ACK Flag Count', ' URG Flag Count', ' CWE Flag Count',\n",
              "       ' ECE Flag Count', ' Down/Up Ratio', ' Average Packet Size',\n",
              "       ' Avg Fwd Segment Size', ' Avg Bwd Segment Size',\n",
              "       ' Fwd Header Length.1', 'Fwd Avg Bytes/Bulk', ' Fwd Avg Packets/Bulk',\n",
              "       ' Fwd Avg Bulk Rate', ' Bwd Avg Bytes/Bulk', ' Bwd Avg Packets/Bulk',\n",
              "       'Bwd Avg Bulk Rate', 'Subflow Fwd Packets', ' Subflow Fwd Bytes',\n",
              "       ' Subflow Bwd Packets', ' Subflow Bwd Bytes', 'Init_Win_bytes_forward',\n",
              "       ' Init_Win_bytes_backward', ' act_data_pkt_fwd',\n",
              "       ' min_seg_size_forward', 'Active Mean', ' Active Std', ' Active Max',\n",
              "       ' Active Min', 'Idle Mean', ' Idle Std', ' Idle Max', ' Idle Min',\n",
              "       ' Label'],\n",
              "      dtype='object')"
            ]
          },
          "execution_count": 39,
          "metadata": {},
          "output_type": "execute_result"
        }
      ],
      "source": [
        "frame.columns"
      ]
    },
    {
      "cell_type": "code",
      "execution_count": 3,
      "metadata": {
        "id": "Qy0E9aL_wC8A"
      },
      "outputs": [],
      "source": [
        "import numpy as np\n",
        "import pandas as pd\n",
        "import seaborn as sns\n",
        "import matplotlib.pyplot as plt\n",
        "from sklearn.preprocessing import LabelEncoder\n",
        "from sklearn.model_selection import train_test_split\n",
        "from sklearn.metrics import classification_report,confusion_matrix,accuracy_score,precision_recall_fscore_support\n",
        "from sklearn.metrics import f1_score\n",
        "from sklearn.ensemble import RandomForestClassifier,ExtraTreesClassifier\n",
        "from sklearn.tree import DecisionTreeClassifier\n",
        "import xgboost as xgb\n",
        "from xgboost import plot_importance\n"
      ]
    },
    {
      "cell_type": "code",
      "execution_count": 4,
      "metadata": {
        "id": "22fxxwK1Bib-"
      },
      "outputs": [],
      "source": [
        "import os\n",
        "import numpy as np\n",
        "dir = \"/content/MachineLearningCVE/\"\n",
        "a = os.listdir(dir)\n",
        "import pandas as pd\n",
        "li = []\n",
        "\n",
        "for filename in a:\n",
        "    df = pd.read_csv(dir+filename, index_col=None, header=0)\n",
        "    li.append(df)\n",
        "\n",
        "frame = pd.concat(li, axis=0, ignore_index=True)\n",
        "# frame = pd.read_csv(dir+a[3], index_col=None, header=0)"
      ]
    },
    {
      "cell_type": "code",
      "execution_count": 5,
      "metadata": {
        "id": "-4ZGXL2ivGGu"
      },
      "outputs": [],
      "source": [
        "frame = frame.drop([\" Destination Port\",\" Bwd PSH Flags\",\" Fwd Header Length.1\", \" Bwd URG Flags\",\"Fwd Avg Bytes/Bulk\",\" Fwd Avg Packets/Bulk\",\" Fwd Avg Bulk Rate\", \" Bwd Avg Bytes/Bulk\",\" Bwd Avg Packets/Bulk\",\"Bwd Avg Bulk Rate\"], axis=1)"
      ]
    },
    {
      "cell_type": "code",
      "execution_count": 6,
      "metadata": {
        "id": "4lgg3Mthukae"
      },
      "outputs": [],
      "source": [
        "numeric_features = frame.dtypes[frame.dtypes != 'object'].index"
      ]
    },
    {
      "cell_type": "code",
      "execution_count": 7,
      "metadata": {
        "colab": {
          "base_uri": "https://localhost:8080/"
        },
        "id": "foeLS8DhvPvm",
        "outputId": "97762a03-0837-4576-e8f5-3becc1730f5e"
      },
      "outputs": [
        {
          "data": {
            "text/plain": [
              "248"
            ]
          },
          "execution_count": 7,
          "metadata": {},
          "output_type": "execute_result"
        }
      ],
      "source": [
        "import gc\n",
        "gc.collect()"
      ]
    },
    {
      "cell_type": "code",
      "execution_count": 8,
      "metadata": {
        "id": "hEcOumSMvcsY"
      },
      "outputs": [],
      "source": [
        "frame.replace([np.inf, -np.inf], np.NaN, inplace=True)\n",
        "frame.fillna(0, inplace=True)"
      ]
    },
    {
      "cell_type": "code",
      "execution_count": 9,
      "metadata": {
        "id": "zaIolPhYvwmi"
      },
      "outputs": [],
      "source": [
        "\n",
        "labelencoder = LabelEncoder()\n",
        "frame.iloc[:, -1] = labelencoder.fit_transform(frame.iloc[:, -1])\n"
      ]
    },
    {
      "cell_type": "code",
      "execution_count": 10,
      "metadata": {
        "id": "LAQ2Fp48v8nA"
      },
      "outputs": [],
      "source": [
        "X = frame.drop([' Label'], axis=1).values\n",
        "y = frame.iloc[:, -1].values.reshape(-1,1)\n",
        "y=np.ravel(y)\n",
        "X_train, X_test, y_train, y_test = train_test_split(X,y, train_size = 0.8, test_size = 0.2, random_state = 0,stratify = y)"
      ]
    },
    {
      "cell_type": "code",
      "execution_count": 11,
      "metadata": {
        "colab": {
          "base_uri": "https://localhost:8080/"
        },
        "id": "QlO03LZJ0Srg",
        "outputId": "5c0d80a6-aead-4970-ee9d-02b73062718b"
      },
      "outputs": [
        {
          "data": {
            "text/plain": [
              "(array([ 0,  1,  2,  3,  4,  5,  6,  7,  8,  9, 10, 11, 12, 13, 14]),\n",
              " array([1818477,    1573,  102421,    8234,  184858,    4399,    4637,\n",
              "           6350,       9,      29,  127144,    4718,    1206,      17,\n",
              "            522]))"
            ]
          },
          "execution_count": 11,
          "metadata": {},
          "output_type": "execute_result"
        }
      ],
      "source": [
        "np.unique(y_train, return_counts=True)"
      ]
    },
    {
      "cell_type": "code",
      "execution_count": 12,
      "metadata": {
        "id": "XNsxcnq0z-So"
      },
      "outputs": [],
      "source": [
        "from imblearn.over_sampling import SMOTE\n",
        "smote=SMOTE(n_jobs=-1,sampling_strategy={8:1000,9:1500,13:1000, 14:1500}) # Create 1500 samples for the minority class \"4\"\n"
      ]
    },
    {
      "cell_type": "code",
      "execution_count": 13,
      "metadata": {
        "id": "R-OgkSlrz-PF"
      },
      "outputs": [],
      "source": [
        "X_train, y_train = smote.fit_resample(X_train, y_train)\n",
        "# smote."
      ]
    },
    {
      "cell_type": "code",
      "execution_count": 14,
      "metadata": {
        "colab": {
          "base_uri": "https://localhost:8080/"
        },
        "id": "ZkVsITzHd4-Z",
        "outputId": "eb1a16b3-54b7-48c9-bc01-ffa378069183"
      },
      "outputs": [
        {
          "data": {
            "text/plain": [
              "267"
            ]
          },
          "execution_count": 14,
          "metadata": {},
          "output_type": "execute_result"
        }
      ],
      "source": [
        "gc.collect()"
      ]
    },
    {
      "cell_type": "code",
      "execution_count": null,
      "metadata": {
        "colab": {
          "base_uri": "https://localhost:8080/"
        },
        "id": "HHDIJPlK0FEf",
        "outputId": "8c96a72d-47b5-4189-f349-0a5018a34b10"
      },
      "outputs": [
        {
          "data": {
            "text/plain": [
              "DecisionTreeClassifier(random_state=0)"
            ]
          },
          "execution_count": 12,
          "metadata": {},
          "output_type": "execute_result"
        }
      ],
      "source": [
        "dt = DecisionTreeClassifier(random_state = 0)\n",
        "dt.fit(X_train,y_train) "
      ]
    },
    {
      "cell_type": "code",
      "execution_count": null,
      "metadata": {
        "colab": {
          "base_uri": "https://localhost:8080/",
          "height": 786
        },
        "id": "QgdQYS-72VpI",
        "outputId": "a0270e12-829c-4c29-90df-ab5128d36e20"
      },
      "outputs": [
        {
          "name": "stdout",
          "output_type": "stream",
          "text": [
            "Accuracy of DT: 0.9985940097041591\n",
            "Precision of DT: 0.9986489952135451\n",
            "Recall of DT: 0.9985940097041591\n",
            "F1-score of DT: 0.9986118478652363\n",
            "              precision    recall  f1-score   support\n",
            "\n",
            "           0       1.00      1.00      1.00    454620\n",
            "           1       0.81      0.83      0.82       393\n",
            "           2       1.00      1.00      1.00     25606\n",
            "           3       0.99      0.99      0.99      2059\n",
            "           4       1.00      1.00      1.00     46215\n",
            "           5       0.97      0.95      0.96      1100\n",
            "           6       0.99      0.99      0.99      1159\n",
            "           7       1.00      1.00      1.00      1588\n",
            "           8       1.00      1.00      1.00         2\n",
            "           9       0.54      1.00      0.70         7\n",
            "          10       0.99      1.00      1.00     31786\n",
            "          11       1.00      1.00      1.00      1179\n",
            "          12       0.79      0.65      0.71       301\n",
            "          13       0.25      0.50      0.33         4\n",
            "          14       0.41      0.60      0.49       130\n",
            "\n",
            "    accuracy                           1.00    566149\n",
            "   macro avg       0.85      0.90      0.87    566149\n",
            "weighted avg       1.00      1.00      1.00    566149\n",
            "\n"
          ]
        },
        {
          "data": {
            "image/png": "[encoded data removed]",
            "text/plain": [
              "<Figure size 360x360 with 2 Axes>"
            ]
          },
          "metadata": {
            "needs_background": "light"
          },
          "output_type": "display_data"
        }
      ],
      "source": [
        "dt_score=dt.score(X_test,y_test)\n",
        "y_predict=dt.predict(X_test)\n",
        "y_true=y_test\n",
        "print('Accuracy of DT: '+ str(dt_score))\n",
        "precision,recall,fscore,none= precision_recall_fscore_support(y_true, y_predict, average='weighted') \n",
        "print('Precision of DT: '+(str(precision)))\n",
        "print('Recall of DT: '+(str(recall)))\n",
        "print('F1-score of DT: '+(str(fscore)))\n",
        "print(classification_report(y_true,y_predict))\n",
        "cm=confusion_matrix(y_true,y_predict)\n",
        "f,ax=plt.subplots(figsize=(5,5))\n",
        "sns.heatmap(cm,annot=True,linewidth=0.5,linecolor=\"red\",fmt=\".0f\",ax=ax)\n",
        "plt.xlabel(\"y_pred\")\n",
        "plt.ylabel(\"y_true\")\n",
        "plt.show()\n"
      ]
    },
    {
      "cell_type": "code",
      "execution_count": 14,
      "metadata": {
        "colab": {
          "base_uri": "https://localhost:8080/",
          "height": 1000
        },
        "id": "z_PGoEXu2cBt",
        "outputId": "a631a683-55c8-4c5c-a3ea-c3ace8ae5fae"
      },
      "outputs": [
        {
          "name": "stdout",
          "output_type": "stream",
          "text": [
            "Accuracy of RF: 0.9986399340103047\n",
            "Accuracy of RF: 0.9986399340103047\n",
            "Precision of RF: 0.9986529602733623\n",
            "Recall of RF: 0.9986399340103047\n",
            "F1-score of RF: 0.9986362011765464\n",
            "Precision of RF: 0.9986529602733623\n",
            "Recall of RF: 0.9986399340103047\n",
            "F1-score of RF: 0.9986362011765464\n",
            "              precision    recall  f1-score   support\n",
            "\n",
            "           0       1.00      1.00      1.00    454620\n",
            "           1       0.87      0.79      0.83       393\n",
            "           2       1.00      1.00      1.00     25606\n",
            "           3       1.00      0.99      1.00      2059\n",
            "           4       1.00      1.00      1.00     46215\n",
            "           5       0.96      0.98      0.97      1100\n",
            "           6       1.00      1.00      1.00      1159\n",
            "           7       1.00      1.00      1.00      1588\n",
            "           8       1.00      1.00      1.00         2\n",
            "           9       1.00      1.00      1.00         7\n",
            "          10       0.99      1.00      1.00     31786\n",
            "          11       1.00      0.99      1.00      1179\n",
            "          12       0.81      0.64      0.72       301\n",
            "          13       1.00      0.50      0.67         4\n",
            "          14       0.46      0.60      0.52       130\n",
            "\n",
            "    accuracy                           1.00    566149\n",
            "   macro avg       0.94      0.90      0.91    566149\n",
            "weighted avg       1.00      1.00      1.00    566149\n",
            "\n",
            "              precision    recall  f1-score   support\n",
            "\n",
            "           0       1.00      1.00      1.00    454620\n",
            "           1       0.87      0.79      0.83       393\n",
            "           2       1.00      1.00      1.00     25606\n",
            "           3       1.00      0.99      1.00      2059\n",
            "           4       1.00      1.00      1.00     46215\n",
            "           5       0.96      0.98      0.97      1100\n",
            "           6       1.00      1.00      1.00      1159\n",
            "           7       1.00      1.00      1.00      1588\n",
            "           8       1.00      1.00      1.00         2\n",
            "           9       1.00      1.00      1.00         7\n",
            "          10       0.99      1.00      1.00     31786\n",
            "          11       1.00      0.99      1.00      1179\n",
            "          12       0.81      0.64      0.72       301\n",
            "          13       1.00      0.50      0.67         4\n",
            "          14       0.46      0.60      0.52       130\n",
            "\n",
            "    accuracy                           1.00    566149\n",
            "   macro avg       0.94      0.90      0.91    566149\n",
            "weighted avg       1.00      1.00      1.00    566149\n",
            "\n"
          ]
        },
        {
          "data": {
            "image/png": "[encoded data removed]",
            "text/plain": [
              "<Figure size 360x360 with 2 Axes>"
            ]
          },
          "metadata": {
            "needs_background": "light"
          },
          "output_type": "display_data"
        },
        {
          "data": {
            "image/png": "[encoded data removed]",
            "text/plain": [
              "<Figure size 360x360 with 2 Axes>"
            ]
          },
          "metadata": {
            "needs_background": "light"
          },
          "output_type": "display_data"
        }
      ],
      "source": [
        "rf = RandomForestClassifier(random_state = 0)\n",
        "rf.fit(X_train,y_train) \n",
        "rf_score=rf.score(X_test,y_test)\n",
        "y_predict=rf.predict(X_test)\n",
        "y_true=y_test\n",
        "print('Accuracy of RF: '+ str(rf_score))\n",
        "precision,recall,fscore,none= precision_recall_fscore_support(y_true, y_predict, average='weighted') \n",
        "print('Precision of RF: '+(str(precision)))\n",
        "print('Recall of RF: '+(str(recall)))\n",
        "print('F1-score of RF: '+(str(fscore)))\n",
        "print(classification_report(y_true,y_predict))\n",
        "cm=confusion_matrix(y_true,y_predict)\n",
        "f,ax=plt.subplots(figsize=(5,5))\n",
        "sns.heatmap(cm,annot=True,linewidth=0.5,linecolor=\"red\",fmt=\".0f\",ax=ax)\n",
        "plt.xlabel(\"y_pred\")\n",
        "plt.ylabel(\"y_true\")\n",
        "plt.show()\n"
      ]
    },
    {
      "cell_type": "code",
      "execution_count": 15,
      "metadata": {
        "colab": {
          "base_uri": "https://localhost:8080/",
          "height": 945
        },
        "id": "L8yMRFRC8vmZ",
        "outputId": "599c20c3-54f6-4c72-cfe5-1a329af6bb34"
      },
      "outputs": [
        {
          "name": "stdout",
          "output_type": "stream",
          "text": [
            "Accuracy of XGBoost: 0.9805033657217447\n"
          ]
        },
        {
          "name": "stderr",
          "output_type": "stream",
          "text": [
            "/usr/local/lib/python3.7/dist-packages/sklearn/metrics/_classification.py:1318: UndefinedMetricWarning: Precision and F-score are ill-defined and being set to 0.0 in labels with no predicted samples. Use `zero_division` parameter to control this behavior.\n",
            "  _warn_prf(average, modifier, msg_start, len(result))\n"
          ]
        },
        {
          "name": "stdout",
          "output_type": "stream",
          "text": [
            "Precision of XGBoost: 0.9802283966898743\n",
            "Recall of XGBoost: 0.9805033657217447\n",
            "F1-score of XGBoost: 0.9789791764800838\n"
          ]
        },
        {
          "name": "stderr",
          "output_type": "stream",
          "text": [
            "/usr/local/lib/python3.7/dist-packages/sklearn/metrics/_classification.py:1318: UndefinedMetricWarning: Precision and F-score are ill-defined and being set to 0.0 in labels with no predicted samples. Use `zero_division` parameter to control this behavior.\n",
            "  _warn_prf(average, modifier, msg_start, len(result))\n",
            "/usr/local/lib/python3.7/dist-packages/sklearn/metrics/_classification.py:1318: UndefinedMetricWarning: Precision and F-score are ill-defined and being set to 0.0 in labels with no predicted samples. Use `zero_division` parameter to control this behavior.\n",
            "  _warn_prf(average, modifier, msg_start, len(result))\n",
            "/usr/local/lib/python3.7/dist-packages/sklearn/metrics/_classification.py:1318: UndefinedMetricWarning: Precision and F-score are ill-defined and being set to 0.0 in labels with no predicted samples. Use `zero_division` parameter to control this behavior.\n",
            "  _warn_prf(average, modifier, msg_start, len(result))\n"
          ]
        },
        {
          "name": "stdout",
          "output_type": "stream",
          "text": [
            "              precision    recall  f1-score   support\n",
            "\n",
            "           0       0.98      1.00      0.99    454620\n",
            "           1       1.00      0.00      0.01       393\n",
            "           2       1.00      0.98      0.99     25606\n",
            "           3       0.99      0.71      0.83      2059\n",
            "           4       0.97      0.87      0.91     46215\n",
            "           5       0.93      0.67      0.78      1100\n",
            "           6       1.00      0.46      0.63      1159\n",
            "           7       1.00      0.98      0.99      1588\n",
            "           8       1.00      1.00      1.00         2\n",
            "           9       0.00      0.00      0.00         7\n",
            "          10       0.99      0.99      0.99     31786\n",
            "          11       1.00      0.49      0.66      1179\n",
            "          12       1.00      0.04      0.08       301\n",
            "          13       0.00      0.00      0.00         4\n",
            "          14       0.00      0.00      0.00       130\n",
            "\n",
            "    accuracy                           0.98    566149\n",
            "   macro avg       0.79      0.55      0.59    566149\n",
            "weighted avg       0.98      0.98      0.98    566149\n",
            "\n"
          ]
        },
        {
          "data": {
            "image/png": "[encoded data removed]",
            "text/plain": [
              "<Figure size 360x360 with 2 Axes>"
            ]
          },
          "metadata": {
            "needs_background": "light"
          },
          "output_type": "display_data"
        }
      ],
      "source": [
        "xg = xgb.XGBClassifier(n_estimators = 10)\n",
        "xg.fit(X_train,y_train)\n",
        "xg_score=xg.score(X_test,y_test)\n",
        "y_predict=xg.predict(X_test)\n",
        "y_true=y_test\n",
        "print('Accuracy of XGBoost: '+ str(xg_score))\n",
        "precision,recall,fscore,none= precision_recall_fscore_support(y_true, y_predict, average='weighted') \n",
        "print('Precision of XGBoost: '+(str(precision)))\n",
        "print('Recall of XGBoost: '+(str(recall)))\n",
        "print('F1-score of XGBoost: '+(str(fscore)))\n",
        "print(classification_report(y_true,y_predict))\n",
        "cm=confusion_matrix(y_true,y_predict)\n",
        "f,ax=plt.subplots(figsize=(5,5))\n",
        "sns.heatmap(cm,annot=True,linewidth=0.5,linecolor=\"red\",fmt=\".0f\",ax=ax)\n",
        "plt.xlabel(\"y_pred\")\n",
        "plt.ylabel(\"y_true\")\n",
        "plt.show()\n"
      ]
    },
    {
      "cell_type": "markdown",
      "metadata": {
        "id": "Q7UwwxAimiS4"
      },
      "source": [
        "## Unsupervised learning algorithms"
      ]
    },
    {
      "cell_type": "code",
      "execution_count": 19,
      "metadata": {
        "id": "v8GZ2dRomkyx"
      },
      "outputs": [],
      "source": [
        "from sklearn.ensemble import IsolationForest\n",
        "iso = IsolationForest()"
      ]
    },
    {
      "cell_type": "code",
      "execution_count": 21,
      "metadata": {
        "colab": {
          "base_uri": "https://localhost:8080/"
        },
        "id": "C7FgGEFknTp9",
        "outputId": "dc1b9254-2a61-48c2-905d-c335c310d5e0"
      },
      "outputs": [
        {
          "data": {
            "text/plain": [
              "IsolationForest()"
            ]
          },
          "execution_count": 21,
          "metadata": {},
          "output_type": "execute_result"
        }
      ],
      "source": [
        "iso.fit(X_train)"
      ]
    },
    {
      "cell_type": "code",
      "execution_count": null,
      "metadata": {
        "id": "oOz2w8rMtj6c"
      },
      "outputs": [],
      "source": [
        "iso.estimators_"
      ]
    },
    {
      "cell_type": "code",
      "execution_count": 27,
      "metadata": {
        "id": "gdvlZx_QvCWZ"
      },
      "outputs": [],
      "source": [
        "# iso.classes_"
      ]
    },
    {
      "cell_type": "code",
      "execution_count": 22,
      "metadata": {
        "id": "EIlEaHcdqe_V"
      },
      "outputs": [],
      "source": [
        "preds = iso.predict(X_test)"
      ]
    },
    {
      "cell_type": "code",
      "execution_count": 33,
      "metadata": {
        "id": "RK3harCoxurO"
      },
      "outputs": [],
      "source": [
        "y_true_outlier = []\n",
        "for i in y_true:\n",
        "    if (i==0):\n",
        "        y_true_outlier.append(1)\n",
        "    else:\n",
        "        y_true_outlier.append(-1)\n",
        "y_true_outlier = np.array(y_true_outlier)"
      ]
    },
    {
      "cell_type": "code",
      "execution_count": 34,
      "metadata": {
        "colab": {
          "base_uri": "https://localhost:8080/"
        },
        "id": "OxhKBqyqyAWr",
        "outputId": "ff65b25e-aca0-41e2-9642-099eb33aadbd"
      },
      "outputs": [
        {
          "data": {
            "text/plain": [
              "array([ 1,  1, -1, ..., -1,  1,  1])"
            ]
          },
          "execution_count": 34,
          "metadata": {},
          "output_type": "execute_result"
        }
      ],
      "source": [
        "y_true_outlier"
      ]
    },
    {
      "cell_type": "code",
      "execution_count": 38,
      "metadata": {
        "id": "9gPf7bBLthnl"
      },
      "outputs": [],
      "source": [
        "precision,recall,fscore,none= precision_recall_fscore_support(y_true_outlier, preds, average='weighted') \n"
      ]
    },
    {
      "cell_type": "code",
      "execution_count": 39,
      "metadata": {
        "colab": {
          "base_uri": "https://localhost:8080/"
        },
        "id": "cyDnG2kYxTZ6",
        "outputId": "441b998c-694f-422f-e0e9-34c9079bb2e5"
      },
      "outputs": [
        {
          "name": "stdout",
          "output_type": "stream",
          "text": [
            "Precision of XGBoost: 0.7592290527912318\n",
            "Recall of XGBoost: 0.7934254056794237\n",
            "F1-score of XGBoost: 0.7682143774513607\n"
          ]
        }
      ],
      "source": [
        "print('Precision of XGBoost: '+(str(precision)))\n",
        "print('Recall of XGBoost: '+(str(recall)))\n",
        "print('F1-score of XGBoost: '+(str(fscore)))"
      ]
    },
    {
      "cell_type": "code",
      "execution_count": 41,
      "metadata": {
        "colab": {
          "base_uri": "https://localhost:8080/"
        },
        "id": "59KuT-wBxaWV",
        "outputId": "e3628322-6226-46ef-92df-243235fa3009"
      },
      "outputs": [
        {
          "data": {
            "text/plain": [
              "0.7934254056794237"
            ]
          },
          "execution_count": 41,
          "metadata": {},
          "output_type": "execute_result"
        }
      ],
      "source": [
        "accuracy_score(y_true_outlier, preds)"
      ]
    },
    {
      "cell_type": "code",
      "execution_count": 31,
      "metadata": {
        "colab": {
          "base_uri": "https://localhost:8080/"
        },
        "id": "KXmmxOrJxgBT",
        "outputId": "81101007-2dae-40f6-91f8-77d068f622ce"
      },
      "outputs": [
        {
          "data": {
            "text/plain": [
              "array([-1,  1,  1, ...,  1,  1,  1])"
            ]
          },
          "execution_count": 31,
          "metadata": {},
          "output_type": "execute_result"
        }
      ],
      "source": []
    }
  ],
  "metadata": {
    "colab": {
      "collapsed_sections": [
        "OvEpu7eAlWiN",
        "7vC_NRZ5kb8h"
      ],
      "name": "gaussian-mixture-cic2017.ipynb",
      "provenance": []
    },
    "kernelspec": {
      "display_name": "Python 3",
      "name": "python3"
    },
    "language_info": {
      "name": "python"
    }
  },
  "nbformat": 4,
  "nbformat_minor": 0
}
