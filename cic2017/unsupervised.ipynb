{
  "nbformat": 4,
  "nbformat_minor": 0,
  "metadata": {
    "colab": {
      "name": "unsupervised.ipynb",
      "provenance": []
    },
    "kernelspec": {
      "name": "python3",
      "display_name": "Python 3"
    },
    "language_info": {
      "name": "python"
    }
  },
  "cells": [
    {
      "cell_type": "code",
      "execution_count": 1,
      "metadata": {
        "id": "8KoeVFPQwWnR"
      },
      "outputs": [],
      "source": [
        "!cp /content/drive/MyDrive/c3i/MachineLearningCSV.zip ."
      ]
    },
    {
      "cell_type": "code",
      "source": [
        "!unzip MachineLearningCSV.zip"
      ],
      "metadata": {
        "colab": {
          "base_uri": "https://localhost:8080/"
        },
        "id": "gtWaYQy9wtMF",
        "outputId": "ddbbe739-8c65-45a7-d7fd-03a0c6ef4525"
      },
      "execution_count": 2,
      "outputs": [
        {
          "output_type": "stream",
          "name": "stdout",
          "text": [
            "Archive:  MachineLearningCSV.zip\n",
            "   creating: MachineLearningCVE/\n",
            "  inflating: MachineLearningCVE/Wednesday-workingHours.pcap_ISCX.csv  \n",
            "  inflating: MachineLearningCVE/Tuesday-WorkingHours.pcap_ISCX.csv  \n",
            "  inflating: MachineLearningCVE/Thursday-WorkingHours-Morning-WebAttacks.pcap_ISCX.csv  \n",
            "  inflating: MachineLearningCVE/Thursday-WorkingHours-Afternoon-Infilteration.pcap_ISCX.csv  \n",
            "  inflating: MachineLearningCVE/Monday-WorkingHours.pcap_ISCX.csv  \n",
            "  inflating: MachineLearningCVE/Friday-WorkingHours-Morning.pcap_ISCX.csv  \n",
            "  inflating: MachineLearningCVE/Friday-WorkingHours-Afternoon-PortScan.pcap_ISCX.csv  \n",
            "  inflating: MachineLearningCVE/Friday-WorkingHours-Afternoon-DDos.pcap_ISCX.csv  \n"
          ]
        }
      ]
    },
    {
      "cell_type": "code",
      "source": [
        "import os\n",
        "import numpy as np\n",
        "dir = \"/content/MachineLearningCVE/\"\n",
        "a = os.listdir(dir)\n",
        "import pandas as pd\n",
        "li = []\n",
        "\n",
        "for filename in a:\n",
        "    df = pd.read_csv(dir+filename, index_col=None, header=0)\n",
        "    li.append(df)\n",
        "\n",
        "frame = pd.concat(li, axis=0, ignore_index=True)\n"
      ],
      "metadata": {
        "id": "yL7dWLibwvR5"
      },
      "execution_count": 19,
      "outputs": []
    },
    {
      "cell_type": "code",
      "source": [
        "frame"
      ],
      "metadata": {
        "colab": {
          "base_uri": "https://localhost:8080/",
          "height": 540
        },
        "id": "s-rlx-vgw38b",
        "outputId": "eda2e3bc-9360-482d-c7ad-185c9fbb3806"
      },
      "execution_count": 4,
      "outputs": [
        {
          "output_type": "execute_result",
          "data": {
            "text/plain": [
              "          Destination Port   Flow Duration   Total Fwd Packets  \\\n",
              "0                    54865               3                   2   \n",
              "1                    55054             109                   1   \n",
              "2                    55055              52                   1   \n",
              "3                    46236              34                   1   \n",
              "4                    54863               3                   2   \n",
              "...                    ...             ...                 ...   \n",
              "2830738                 53             155                   2   \n",
              "2830739              59317             110                   1   \n",
              "2830740                 53             166                   2   \n",
              "2830741              54726              81                   1   \n",
              "2830742                 53             202                   2   \n",
              "\n",
              "          Total Backward Packets  Total Length of Fwd Packets  \\\n",
              "0                              0                           12   \n",
              "1                              1                            6   \n",
              "2                              1                            6   \n",
              "3                              1                            6   \n",
              "4                              0                           12   \n",
              "...                          ...                          ...   \n",
              "2830738                        2                           88   \n",
              "2830739                        1                            0   \n",
              "2830740                        2                           88   \n",
              "2830741                        1                            0   \n",
              "2830742                        2                          102   \n",
              "\n",
              "          Total Length of Bwd Packets   Fwd Packet Length Max  \\\n",
              "0                                   0                       6   \n",
              "1                                   6                       6   \n",
              "2                                   6                       6   \n",
              "3                                   6                       6   \n",
              "4                                   0                       6   \n",
              "...                               ...                     ...   \n",
              "2830738                           120                      44   \n",
              "2830739                             0                       0   \n",
              "2830740                           188                      44   \n",
              "2830741                             0                       0   \n",
              "2830742                           158                      51   \n",
              "\n",
              "          Fwd Packet Length Min   Fwd Packet Length Mean  \\\n",
              "0                             6                      6.0   \n",
              "1                             6                      6.0   \n",
              "2                             6                      6.0   \n",
              "3                             6                      6.0   \n",
              "4                             6                      6.0   \n",
              "...                         ...                      ...   \n",
              "2830738                      44                     44.0   \n",
              "2830739                       0                      0.0   \n",
              "2830740                      44                     44.0   \n",
              "2830741                       0                      0.0   \n",
              "2830742                      51                     51.0   \n",
              "\n",
              "          Fwd Packet Length Std  ...   min_seg_size_forward  Active Mean  \\\n",
              "0                           0.0  ...                     20          0.0   \n",
              "1                           0.0  ...                     20          0.0   \n",
              "2                           0.0  ...                     20          0.0   \n",
              "3                           0.0  ...                     20          0.0   \n",
              "4                           0.0  ...                     20          0.0   \n",
              "...                         ...  ...                    ...          ...   \n",
              "2830738                     0.0  ...                     32          0.0   \n",
              "2830739                     0.0  ...                     20          0.0   \n",
              "2830740                     0.0  ...                     32          0.0   \n",
              "2830741                     0.0  ...                     32          0.0   \n",
              "2830742                     0.0  ...                     20          0.0   \n",
              "\n",
              "          Active Std   Active Max   Active Min  Idle Mean   Idle Std  \\\n",
              "0                0.0            0            0        0.0        0.0   \n",
              "1                0.0            0            0        0.0        0.0   \n",
              "2                0.0            0            0        0.0        0.0   \n",
              "3                0.0            0            0        0.0        0.0   \n",
              "4                0.0            0            0        0.0        0.0   \n",
              "...              ...          ...          ...        ...        ...   \n",
              "2830738          0.0            0            0        0.0        0.0   \n",
              "2830739          0.0            0            0        0.0        0.0   \n",
              "2830740          0.0            0            0        0.0        0.0   \n",
              "2830741          0.0            0            0        0.0        0.0   \n",
              "2830742          0.0            0            0        0.0        0.0   \n",
              "\n",
              "          Idle Max   Idle Min   Label  \n",
              "0                0          0  BENIGN  \n",
              "1                0          0  BENIGN  \n",
              "2                0          0  BENIGN  \n",
              "3                0          0  BENIGN  \n",
              "4                0          0  BENIGN  \n",
              "...            ...        ...     ...  \n",
              "2830738          0          0  BENIGN  \n",
              "2830739          0          0  BENIGN  \n",
              "2830740          0          0  BENIGN  \n",
              "2830741          0          0  BENIGN  \n",
              "2830742          0          0  BENIGN  \n",
              "\n",
              "[2830743 rows x 79 columns]"
            ],
            "text/html": [
              "\n",
              "  <div id=\"df-58ef8165-896f-48ba-a496-7b8e6ff79c36\">\n",
              "    <div class=\"colab-df-container\">\n",
              "      <div>\n",
              "<style scoped>\n",
              "    .dataframe tbody tr th:only-of-type {\n",
              "        vertical-align: middle;\n",
              "    }\n",
              "\n",
              "    .dataframe tbody tr th {\n",
              "        vertical-align: top;\n",
              "    }\n",
              "\n",
              "    .dataframe thead th {\n",
              "        text-align: right;\n",
              "    }\n",
              "</style>\n",
              "<table border=\"1\" class=\"dataframe\">\n",
              "  <thead>\n",
              "    <tr style=\"text-align: right;\">\n",
              "      <th></th>\n",
              "      <th>Destination Port</th>\n",
              "      <th>Flow Duration</th>\n",
              "      <th>Total Fwd Packets</th>\n",
              "      <th>Total Backward Packets</th>\n",
              "      <th>Total Length of Fwd Packets</th>\n",
              "      <th>Total Length of Bwd Packets</th>\n",
              "      <th>Fwd Packet Length Max</th>\n",
              "      <th>Fwd Packet Length Min</th>\n",
              "      <th>Fwd Packet Length Mean</th>\n",
              "      <th>Fwd Packet Length Std</th>\n",
              "      <th>...</th>\n",
              "      <th>min_seg_size_forward</th>\n",
              "      <th>Active Mean</th>\n",
              "      <th>Active Std</th>\n",
              "      <th>Active Max</th>\n",
              "      <th>Active Min</th>\n",
              "      <th>Idle Mean</th>\n",
              "      <th>Idle Std</th>\n",
              "      <th>Idle Max</th>\n",
              "      <th>Idle Min</th>\n",
              "      <th>Label</th>\n",
              "    </tr>\n",
              "  </thead>\n",
              "  <tbody>\n",
              "    <tr>\n",
              "      <th>0</th>\n",
              "      <td>54865</td>\n",
              "      <td>3</td>\n",
              "      <td>2</td>\n",
              "      <td>0</td>\n",
              "      <td>12</td>\n",
              "      <td>0</td>\n",
              "      <td>6</td>\n",
              "      <td>6</td>\n",
              "      <td>6.0</td>\n",
              "      <td>0.0</td>\n",
              "      <td>...</td>\n",
              "      <td>20</td>\n",
              "      <td>0.0</td>\n",
              "      <td>0.0</td>\n",
              "      <td>0</td>\n",
              "      <td>0</td>\n",
              "      <td>0.0</td>\n",
              "      <td>0.0</td>\n",
              "      <td>0</td>\n",
              "      <td>0</td>\n",
              "      <td>BENIGN</td>\n",
              "    </tr>\n",
              "    <tr>\n",
              "      <th>1</th>\n",
              "      <td>55054</td>\n",
              "      <td>109</td>\n",
              "      <td>1</td>\n",
              "      <td>1</td>\n",
              "      <td>6</td>\n",
              "      <td>6</td>\n",
              "      <td>6</td>\n",
              "      <td>6</td>\n",
              "      <td>6.0</td>\n",
              "      <td>0.0</td>\n",
              "      <td>...</td>\n",
              "      <td>20</td>\n",
              "      <td>0.0</td>\n",
              "      <td>0.0</td>\n",
              "      <td>0</td>\n",
              "      <td>0</td>\n",
              "      <td>0.0</td>\n",
              "      <td>0.0</td>\n",
              "      <td>0</td>\n",
              "      <td>0</td>\n",
              "      <td>BENIGN</td>\n",
              "    </tr>\n",
              "    <tr>\n",
              "      <th>2</th>\n",
              "      <td>55055</td>\n",
              "      <td>52</td>\n",
              "      <td>1</td>\n",
              "      <td>1</td>\n",
              "      <td>6</td>\n",
              "      <td>6</td>\n",
              "      <td>6</td>\n",
              "      <td>6</td>\n",
              "      <td>6.0</td>\n",
              "      <td>0.0</td>\n",
              "      <td>...</td>\n",
              "      <td>20</td>\n",
              "      <td>0.0</td>\n",
              "      <td>0.0</td>\n",
              "      <td>0</td>\n",
              "      <td>0</td>\n",
              "      <td>0.0</td>\n",
              "      <td>0.0</td>\n",
              "      <td>0</td>\n",
              "      <td>0</td>\n",
              "      <td>BENIGN</td>\n",
              "    </tr>\n",
              "    <tr>\n",
              "      <th>3</th>\n",
              "      <td>46236</td>\n",
              "      <td>34</td>\n",
              "      <td>1</td>\n",
              "      <td>1</td>\n",
              "      <td>6</td>\n",
              "      <td>6</td>\n",
              "      <td>6</td>\n",
              "      <td>6</td>\n",
              "      <td>6.0</td>\n",
              "      <td>0.0</td>\n",
              "      <td>...</td>\n",
              "      <td>20</td>\n",
              "      <td>0.0</td>\n",
              "      <td>0.0</td>\n",
              "      <td>0</td>\n",
              "      <td>0</td>\n",
              "      <td>0.0</td>\n",
              "      <td>0.0</td>\n",
              "      <td>0</td>\n",
              "      <td>0</td>\n",
              "      <td>BENIGN</td>\n",
              "    </tr>\n",
              "    <tr>\n",
              "      <th>4</th>\n",
              "      <td>54863</td>\n",
              "      <td>3</td>\n",
              "      <td>2</td>\n",
              "      <td>0</td>\n",
              "      <td>12</td>\n",
              "      <td>0</td>\n",
              "      <td>6</td>\n",
              "      <td>6</td>\n",
              "      <td>6.0</td>\n",
              "      <td>0.0</td>\n",
              "      <td>...</td>\n",
              "      <td>20</td>\n",
              "      <td>0.0</td>\n",
              "      <td>0.0</td>\n",
              "      <td>0</td>\n",
              "      <td>0</td>\n",
              "      <td>0.0</td>\n",
              "      <td>0.0</td>\n",
              "      <td>0</td>\n",
              "      <td>0</td>\n",
              "      <td>BENIGN</td>\n",
              "    </tr>\n",
              "    <tr>\n",
              "      <th>...</th>\n",
              "      <td>...</td>\n",
              "      <td>...</td>\n",
              "      <td>...</td>\n",
              "      <td>...</td>\n",
              "      <td>...</td>\n",
              "      <td>...</td>\n",
              "      <td>...</td>\n",
              "      <td>...</td>\n",
              "      <td>...</td>\n",
              "      <td>...</td>\n",
              "      <td>...</td>\n",
              "      <td>...</td>\n",
              "      <td>...</td>\n",
              "      <td>...</td>\n",
              "      <td>...</td>\n",
              "      <td>...</td>\n",
              "      <td>...</td>\n",
              "      <td>...</td>\n",
              "      <td>...</td>\n",
              "      <td>...</td>\n",
              "      <td>...</td>\n",
              "    </tr>\n",
              "    <tr>\n",
              "      <th>2830738</th>\n",
              "      <td>53</td>\n",
              "      <td>155</td>\n",
              "      <td>2</td>\n",
              "      <td>2</td>\n",
              "      <td>88</td>\n",
              "      <td>120</td>\n",
              "      <td>44</td>\n",
              "      <td>44</td>\n",
              "      <td>44.0</td>\n",
              "      <td>0.0</td>\n",
              "      <td>...</td>\n",
              "      <td>32</td>\n",
              "      <td>0.0</td>\n",
              "      <td>0.0</td>\n",
              "      <td>0</td>\n",
              "      <td>0</td>\n",
              "      <td>0.0</td>\n",
              "      <td>0.0</td>\n",
              "      <td>0</td>\n",
              "      <td>0</td>\n",
              "      <td>BENIGN</td>\n",
              "    </tr>\n",
              "    <tr>\n",
              "      <th>2830739</th>\n",
              "      <td>59317</td>\n",
              "      <td>110</td>\n",
              "      <td>1</td>\n",
              "      <td>1</td>\n",
              "      <td>0</td>\n",
              "      <td>0</td>\n",
              "      <td>0</td>\n",
              "      <td>0</td>\n",
              "      <td>0.0</td>\n",
              "      <td>0.0</td>\n",
              "      <td>...</td>\n",
              "      <td>20</td>\n",
              "      <td>0.0</td>\n",
              "      <td>0.0</td>\n",
              "      <td>0</td>\n",
              "      <td>0</td>\n",
              "      <td>0.0</td>\n",
              "      <td>0.0</td>\n",
              "      <td>0</td>\n",
              "      <td>0</td>\n",
              "      <td>BENIGN</td>\n",
              "    </tr>\n",
              "    <tr>\n",
              "      <th>2830740</th>\n",
              "      <td>53</td>\n",
              "      <td>166</td>\n",
              "      <td>2</td>\n",
              "      <td>2</td>\n",
              "      <td>88</td>\n",
              "      <td>188</td>\n",
              "      <td>44</td>\n",
              "      <td>44</td>\n",
              "      <td>44.0</td>\n",
              "      <td>0.0</td>\n",
              "      <td>...</td>\n",
              "      <td>32</td>\n",
              "      <td>0.0</td>\n",
              "      <td>0.0</td>\n",
              "      <td>0</td>\n",
              "      <td>0</td>\n",
              "      <td>0.0</td>\n",
              "      <td>0.0</td>\n",
              "      <td>0</td>\n",
              "      <td>0</td>\n",
              "      <td>BENIGN</td>\n",
              "    </tr>\n",
              "    <tr>\n",
              "      <th>2830741</th>\n",
              "      <td>54726</td>\n",
              "      <td>81</td>\n",
              "      <td>1</td>\n",
              "      <td>1</td>\n",
              "      <td>0</td>\n",
              "      <td>0</td>\n",
              "      <td>0</td>\n",
              "      <td>0</td>\n",
              "      <td>0.0</td>\n",
              "      <td>0.0</td>\n",
              "      <td>...</td>\n",
              "      <td>32</td>\n",
              "      <td>0.0</td>\n",
              "      <td>0.0</td>\n",
              "      <td>0</td>\n",
              "      <td>0</td>\n",
              "      <td>0.0</td>\n",
              "      <td>0.0</td>\n",
              "      <td>0</td>\n",
              "      <td>0</td>\n",
              "      <td>BENIGN</td>\n",
              "    </tr>\n",
              "    <tr>\n",
              "      <th>2830742</th>\n",
              "      <td>53</td>\n",
              "      <td>202</td>\n",
              "      <td>2</td>\n",
              "      <td>2</td>\n",
              "      <td>102</td>\n",
              "      <td>158</td>\n",
              "      <td>51</td>\n",
              "      <td>51</td>\n",
              "      <td>51.0</td>\n",
              "      <td>0.0</td>\n",
              "      <td>...</td>\n",
              "      <td>20</td>\n",
              "      <td>0.0</td>\n",
              "      <td>0.0</td>\n",
              "      <td>0</td>\n",
              "      <td>0</td>\n",
              "      <td>0.0</td>\n",
              "      <td>0.0</td>\n",
              "      <td>0</td>\n",
              "      <td>0</td>\n",
              "      <td>BENIGN</td>\n",
              "    </tr>\n",
              "  </tbody>\n",
              "</table>\n",
              "<p>2830743 rows × 79 columns</p>\n",
              "</div>\n",
              "      <button class=\"colab-df-convert\" onclick=\"convertToInteractive('df-58ef8165-896f-48ba-a496-7b8e6ff79c36')\"\n",
              "              title=\"Convert this dataframe to an interactive table.\"\n",
              "              style=\"display:none;\">\n",
              "        \n",
              "  <svg xmlns=\"http://www.w3.org/2000/svg\" height=\"24px\"viewBox=\"0 0 24 24\"\n",
              "       width=\"24px\">\n",
              "    <path d=\"M0 0h24v24H0V0z\" fill=\"none\"/>\n",
              "    <path d=\"M18.56 5.44l.94 2.06.94-2.06 2.06-.94-2.06-.94-.94-2.06-.94 2.06-2.06.94zm-11 1L8.5 8.5l.94-2.06 2.06-.94-2.06-.94L8.5 2.5l-.94 2.06-2.06.94zm10 10l.94 2.06.94-2.06 2.06-.94-2.06-.94-.94-2.06-.94 2.06-2.06.94z\"/><path d=\"M17.41 7.96l-1.37-1.37c-.4-.4-.92-.59-1.43-.59-.52 0-1.04.2-1.43.59L10.3 9.45l-7.72 7.72c-.78.78-.78 2.05 0 2.83L4 21.41c.39.39.9.59 1.41.59.51 0 1.02-.2 1.41-.59l7.78-7.78 2.81-2.81c.8-.78.8-2.07 0-2.86zM5.41 20L4 18.59l7.72-7.72 1.47 1.35L5.41 20z\"/>\n",
              "  </svg>\n",
              "      </button>\n",
              "      \n",
              "  <style>\n",
              "    .colab-df-container {\n",
              "      display:flex;\n",
              "      flex-wrap:wrap;\n",
              "      gap: 12px;\n",
              "    }\n",
              "\n",
              "    .colab-df-convert {\n",
              "      background-color: #E8F0FE;\n",
              "      border: none;\n",
              "      border-radius: 50%;\n",
              "      cursor: pointer;\n",
              "      display: none;\n",
              "      fill: #1967D2;\n",
              "      height: 32px;\n",
              "      padding: 0 0 0 0;\n",
              "      width: 32px;\n",
              "    }\n",
              "\n",
              "    .colab-df-convert:hover {\n",
              "      background-color: #E2EBFA;\n",
              "      box-shadow: 0px 1px 2px rgba(60, 64, 67, 0.3), 0px 1px 3px 1px rgba(60, 64, 67, 0.15);\n",
              "      fill: #174EA6;\n",
              "    }\n",
              "\n",
              "    [theme=dark] .colab-df-convert {\n",
              "      background-color: #3B4455;\n",
              "      fill: #D2E3FC;\n",
              "    }\n",
              "\n",
              "    [theme=dark] .colab-df-convert:hover {\n",
              "      background-color: #434B5C;\n",
              "      box-shadow: 0px 1px 3px 1px rgba(0, 0, 0, 0.15);\n",
              "      filter: drop-shadow(0px 1px 2px rgba(0, 0, 0, 0.3));\n",
              "      fill: #FFFFFF;\n",
              "    }\n",
              "  </style>\n",
              "\n",
              "      <script>\n",
              "        const buttonEl =\n",
              "          document.querySelector('#df-58ef8165-896f-48ba-a496-7b8e6ff79c36 button.colab-df-convert');\n",
              "        buttonEl.style.display =\n",
              "          google.colab.kernel.accessAllowed ? 'block' : 'none';\n",
              "\n",
              "        async function convertToInteractive(key) {\n",
              "          const element = document.querySelector('#df-58ef8165-896f-48ba-a496-7b8e6ff79c36');\n",
              "          const dataTable =\n",
              "            await google.colab.kernel.invokeFunction('convertToInteractive',\n",
              "                                                     [key], {});\n",
              "          if (!dataTable) return;\n",
              "\n",
              "          const docLinkHtml = 'Like what you see? Visit the ' +\n",
              "            '<a target=\"_blank\" href=https://colab.research.google.com/notebooks/data_table.ipynb>data table notebook</a>'\n",
              "            + ' to learn more about interactive tables.';\n",
              "          element.innerHTML = '';\n",
              "          dataTable['output_type'] = 'display_data';\n",
              "          await google.colab.output.renderOutput(dataTable, element);\n",
              "          const docLink = document.createElement('div');\n",
              "          docLink.innerHTML = docLinkHtml;\n",
              "          element.appendChild(docLink);\n",
              "        }\n",
              "      </script>\n",
              "    </div>\n",
              "  </div>\n",
              "  "
            ]
          },
          "metadata": {},
          "execution_count": 4
        }
      ]
    },
    {
      "cell_type": "code",
      "source": [
        "import numpy as np\n",
        "import pandas as pd\n",
        "from scipy.stats import norm\n",
        "import matplotlib.pyplot as plt\n",
        "import os\n",
        "import plotly.express as px\n",
        "from sklearn.preprocessing import MinMaxScaler, QuantileTransformer\n",
        "from sklearn.preprocessing import StandardScaler, normalize\n",
        "from sklearn.decomposition import PCA\n",
        "from sklearn.ensemble import IsolationForest\n",
        "from sklearn.cluster import KMeans\n",
        "from sklearn.metrics import silhouette_score\n",
        "from sklearn import metrics\n",
        "from sklearn.model_selection import train_test_split\n",
        "from sklearn.metrics import precision_recall_curve,auc,roc_curve\n",
        "from sklearn.metrics import f1_score, make_scorer, precision_score, recall_score, matthews_corrcoef, average_precision_score, roc_auc_score, precision_recall_curve, auc, roc_curve"
      ],
      "metadata": {
        "id": "RhzzEBi8xU6B"
      },
      "execution_count": 5,
      "outputs": []
    },
    {
      "cell_type": "code",
      "source": [
        "frame.columns"
      ],
      "metadata": {
        "colab": {
          "base_uri": "https://localhost:8080/"
        },
        "id": "O3AujMej5d-5",
        "outputId": "fea8d75d-1405-4d6c-f758-18abcecc6e16"
      },
      "execution_count": 6,
      "outputs": [
        {
          "output_type": "execute_result",
          "data": {
            "text/plain": [
              "Index([' Destination Port', ' Flow Duration', ' Total Fwd Packets',\n",
              "       ' Total Backward Packets', 'Total Length of Fwd Packets',\n",
              "       ' Total Length of Bwd Packets', ' Fwd Packet Length Max',\n",
              "       ' Fwd Packet Length Min', ' Fwd Packet Length Mean',\n",
              "       ' Fwd Packet Length Std', 'Bwd Packet Length Max',\n",
              "       ' Bwd Packet Length Min', ' Bwd Packet Length Mean',\n",
              "       ' Bwd Packet Length Std', 'Flow Bytes/s', ' Flow Packets/s',\n",
              "       ' Flow IAT Mean', ' Flow IAT Std', ' Flow IAT Max', ' Flow IAT Min',\n",
              "       'Fwd IAT Total', ' Fwd IAT Mean', ' Fwd IAT Std', ' Fwd IAT Max',\n",
              "       ' Fwd IAT Min', 'Bwd IAT Total', ' Bwd IAT Mean', ' Bwd IAT Std',\n",
              "       ' Bwd IAT Max', ' Bwd IAT Min', 'Fwd PSH Flags', ' Bwd PSH Flags',\n",
              "       ' Fwd URG Flags', ' Bwd URG Flags', ' Fwd Header Length',\n",
              "       ' Bwd Header Length', 'Fwd Packets/s', ' Bwd Packets/s',\n",
              "       ' Min Packet Length', ' Max Packet Length', ' Packet Length Mean',\n",
              "       ' Packet Length Std', ' Packet Length Variance', 'FIN Flag Count',\n",
              "       ' SYN Flag Count', ' RST Flag Count', ' PSH Flag Count',\n",
              "       ' ACK Flag Count', ' URG Flag Count', ' CWE Flag Count',\n",
              "       ' ECE Flag Count', ' Down/Up Ratio', ' Average Packet Size',\n",
              "       ' Avg Fwd Segment Size', ' Avg Bwd Segment Size',\n",
              "       ' Fwd Header Length.1', 'Fwd Avg Bytes/Bulk', ' Fwd Avg Packets/Bulk',\n",
              "       ' Fwd Avg Bulk Rate', ' Bwd Avg Bytes/Bulk', ' Bwd Avg Packets/Bulk',\n",
              "       'Bwd Avg Bulk Rate', 'Subflow Fwd Packets', ' Subflow Fwd Bytes',\n",
              "       ' Subflow Bwd Packets', ' Subflow Bwd Bytes', 'Init_Win_bytes_forward',\n",
              "       ' Init_Win_bytes_backward', ' act_data_pkt_fwd',\n",
              "       ' min_seg_size_forward', 'Active Mean', ' Active Std', ' Active Max',\n",
              "       ' Active Min', 'Idle Mean', ' Idle Std', ' Idle Max', ' Idle Min',\n",
              "       ' Label'],\n",
              "      dtype='object')"
            ]
          },
          "metadata": {},
          "execution_count": 6
        }
      ]
    },
    {
      "cell_type": "code",
      "source": [
        "def load_data(df, verbose=True, train_size=50000, test_size=None):\n",
        "    Y = df[\" Label\"].map(lambda x: 1 if (x == \"BENIGN\") else -1)\n",
        "    labels = df[\" Label\"]\n",
        "    df.drop(columns=[\" Label\", \" Destination Port\"], inplace=True)\n",
        "    X_train, X_test, y_train, y_test = train_test_split(df, Y, train_size=train_size, test_size=test_size, shuffle=True, stratify=Y, random_state=42)\n",
        "    if verbose:\n",
        "        print(\"***** Train Data *****\")\n",
        "        print(labels.loc[y_train.index].value_counts())\n",
        "        print(\"***** Test Data *****\")\n",
        "        print(labels.loc[y_test.index].value_counts())\n",
        "    return X_train, X_test, y_train, y_test, labels.loc[y_train.index], labels.loc[y_test.index]\n",
        "\n"
      ],
      "metadata": {
        "id": "wpRaqgtkxvlT"
      },
      "execution_count": 10,
      "outputs": []
    },
    {
      "cell_type": "code",
      "source": [
        "frame.replace([np.inf, -np.inf], np.NaN, inplace=True)"
      ],
      "metadata": {
        "id": "3ch8-euu7QCA"
      },
      "execution_count": 20,
      "outputs": []
    },
    {
      "cell_type": "code",
      "source": [
        "frame.replace(np.NaN, 0, inplace=True)"
      ],
      "metadata": {
        "id": "9rYvgY2Y7WIY"
      },
      "execution_count": 21,
      "outputs": []
    },
    {
      "cell_type": "code",
      "source": [
        "X_train, X_test, y_train, y_test, train_labels, test_labels = load_data(frame)"
      ],
      "metadata": {
        "colab": {
          "base_uri": "https://localhost:8080/"
        },
        "id": "BHm407_DxvBe",
        "outputId": "5fa42845-14a5-427a-c665-3910ed3c0d0e"
      },
      "execution_count": 22,
      "outputs": [
        {
          "output_type": "stream",
          "name": "stdout",
          "text": [
            "***** Train Data *****\n",
            "BENIGN                      40150\n",
            "DoS Hulk                     4120\n",
            "PortScan                     2772\n",
            "DDoS                         2265\n",
            "DoS GoldenEye                 179\n",
            "FTP-Patator                   158\n",
            "SSH-Patator                   101\n",
            "DoS slowloris                  96\n",
            "DoS Slowhttptest               93\n",
            "Web Attack � Brute Force       26\n",
            "Bot                            26\n",
            "Web Attack � XSS               11\n",
            "Infiltration                    2\n",
            "Heartbleed                      1\n",
            "Name:  Label, dtype: int64\n",
            "***** Test Data *****\n",
            "BENIGN                        2232947\n",
            "DoS Hulk                       226953\n",
            "PortScan                       156158\n",
            "DDoS                           125762\n",
            "DoS GoldenEye                   10114\n",
            "FTP-Patator                      7780\n",
            "SSH-Patator                      5796\n",
            "DoS slowloris                    5700\n",
            "DoS Slowhttptest                 5406\n",
            "Bot                              1940\n",
            "Web Attack � Brute Force         1481\n",
            "Web Attack � XSS                  641\n",
            "Infiltration                       34\n",
            "Web Attack � Sql Injection         21\n",
            "Heartbleed                         10\n",
            "Name:  Label, dtype: int64\n"
          ]
        }
      ]
    },
    {
      "cell_type": "code",
      "source": [
        "def anomaly_scores(original, transformed):\n",
        "    sse = np.sum((original - transformed)**2, axis=1)\n",
        "    return sse\n",
        "\n",
        "def evaluate_results(y_true, score):\n",
        "    precision, recall, threshold = precision_recall_curve(y_true, score, pos_label=-1)\n",
        "    au_precision_recall = auc(recall, precision)\n",
        "    results = pd.DataFrame({'precision': precision, 'recall': recall})\n",
        "    results[\"f1\"] = 2*precision*recall/(precision+recall)\n",
        "    max_index = results[\"f1\"].idxmax()\n",
        "    best = results.loc[results[\"f1\"].idxmax()]\n",
        "    best[\"threshold\"] = threshold[max_index]\n",
        "    best[\"au_precision_recall\"] = au_precision_recall\n",
        "    fpr, tpr, thresholds = roc_curve(y_true, score, pos_label=-1)\n",
        "    best[\"auroc\"] = auc(fpr, tpr)\n",
        "    return best\n",
        "\n",
        "def evaluate_predictions(y_true, y_pred):\n",
        "    results = {}\n",
        "    results['recall'] = recall_score(y_true, y_pred, pos_label=-1, zero_division=0)\n",
        "    results['precision'] = precision_score(y_true, y_pred, pos_label=-1, zero_division=0)\n",
        "    results['f1'] = f1_score(y_true, y_pred, pos_label=-1, zero_division=0)\n",
        "    return results\n",
        "\n",
        "def evaluate_test_data(y_true, score, threshold):\n",
        "    y_pred = np.array([1 if score < threshold else -1 for score in score])\n",
        "    results = evaluate_predictions(y_true, y_pred)\n",
        "    precision, recall, threshold = precision_recall_curve(y_true, score, pos_label=-1)\n",
        "    results['au_precision_recall'] = auc(recall, precision)\n",
        "    fpr, tpr, thresholds = roc_curve(y_true, score, pos_label=-1)\n",
        "    results[\"auroc\"] = auc(fpr, tpr)\n",
        "    return results"
      ],
      "metadata": {
        "id": "hii6fGyfxu97"
      },
      "execution_count": 12,
      "outputs": []
    },
    {
      "cell_type": "code",
      "source": [
        "scaler = QuantileTransformer(output_distribution='normal')\n",
        "X_train_s = scaler.fit_transform(X_train)\n",
        "X_val, X_t, y_val, y_t, label_val, label_t = train_test_split(X_test, y_test, test_labels, train_size=0.20, random_state=42, stratify=test_labels, shuffle=True)\n",
        "X_val_s = scaler.transform(X_val)"
      ],
      "metadata": {
        "id": "K2bo1c3u63Pt"
      },
      "execution_count": 25,
      "outputs": []
    },
    {
      "cell_type": "code",
      "source": [
        "print(\"***** Train Data *****\")\n",
        "print(train_labels.value_counts())\n",
        "print(\"***** Validation Data *****\")\n",
        "print(label_val.value_counts())\n",
        "print(\"***** Test Data *****\")\n",
        "print(label_t.value_counts())"
      ],
      "metadata": {
        "colab": {
          "base_uri": "https://localhost:8080/"
        },
        "id": "wDMWaJ8-BlwH",
        "outputId": "9a053a2d-a9d4-4b4e-a0e6-496359d2731a"
      },
      "execution_count": 26,
      "outputs": [
        {
          "output_type": "stream",
          "name": "stdout",
          "text": [
            "***** Train Data *****\n",
            "BENIGN                      40150\n",
            "DoS Hulk                     4120\n",
            "PortScan                     2772\n",
            "DDoS                         2265\n",
            "DoS GoldenEye                 179\n",
            "FTP-Patator                   158\n",
            "SSH-Patator                   101\n",
            "DoS slowloris                  96\n",
            "DoS Slowhttptest               93\n",
            "Web Attack � Brute Force       26\n",
            "Bot                            26\n",
            "Web Attack � XSS               11\n",
            "Infiltration                    2\n",
            "Heartbleed                      1\n",
            "Name:  Label, dtype: int64\n",
            "***** Validation Data *****\n",
            "BENIGN                        446589\n",
            "DoS Hulk                       45391\n",
            "PortScan                       31232\n",
            "DDoS                           25152\n",
            "DoS GoldenEye                   2023\n",
            "FTP-Patator                     1556\n",
            "SSH-Patator                     1159\n",
            "DoS slowloris                   1140\n",
            "DoS Slowhttptest                1081\n",
            "Bot                              388\n",
            "Web Attack � Brute Force         296\n",
            "Web Attack � XSS                 128\n",
            "Infiltration                       7\n",
            "Web Attack � Sql Injection         4\n",
            "Heartbleed                         2\n",
            "Name:  Label, dtype: int64\n",
            "***** Test Data *****\n",
            "BENIGN                        1786358\n",
            "DoS Hulk                       181562\n",
            "PortScan                       124926\n",
            "DDoS                           100610\n",
            "DoS GoldenEye                    8091\n",
            "FTP-Patator                      6224\n",
            "SSH-Patator                      4637\n",
            "DoS slowloris                    4560\n",
            "DoS Slowhttptest                 4325\n",
            "Bot                              1552\n",
            "Web Attack � Brute Force         1185\n",
            "Web Attack � XSS                  513\n",
            "Infiltration                       27\n",
            "Web Attack � Sql Injection         17\n",
            "Heartbleed                          8\n",
            "Name:  Label, dtype: int64\n"
          ]
        }
      ]
    },
    {
      "cell_type": "code",
      "source": [
        "import numpy as np\n",
        "np.seterr(divide='ignore', invalid='ignore')\n"
      ],
      "metadata": {
        "colab": {
          "base_uri": "https://localhost:8080/"
        },
        "id": "2FVEH4sfCS02",
        "outputId": "453bbeae-6ba2-4a1b-b38a-aa5d6e1a7671"
      },
      "execution_count": 28,
      "outputs": [
        {
          "output_type": "execute_result",
          "data": {
            "text/plain": [
              "{'divide': 'warn', 'invalid': 'warn', 'over': 'warn', 'under': 'ignore'}"
            ]
          },
          "metadata": {},
          "execution_count": 28
        }
      ]
    },
    {
      "cell_type": "code",
      "source": [
        "pca = PCA(n_components=32, copy=True, whiten=False, svd_solver='auto', tol=0.0, iterated_power='auto', random_state=None)\n",
        "pca.fit(X_train_s)\n",
        "x_train_feature = pca.transform(X_train_s)\n",
        "x_val_feature = pca.transform(X_val_s)\n",
        "#X_val_pca = pca.transform(X_val_s)\n",
        "X_val_pca_inv = pca.inverse_transform(x_val_feature)\n",
        "val_score_pca = anomaly_scores(X_val_s, X_val_pca_inv)\n",
        "val_metrics_pca = evaluate_results(y_val, val_score_pca)\n"
      ],
      "metadata": {
        "id": "b4e3Wr7mB-tP"
      },
      "execution_count": 29,
      "outputs": []
    },
    {
      "cell_type": "code",
      "source": [
        "val_metrics_pca"
      ],
      "metadata": {
        "colab": {
          "base_uri": "https://localhost:8080/"
        },
        "id": "_R23vybVCDkf",
        "outputId": "b776faa6-9e8d-401d-b9ef-33861966be35"
      },
      "execution_count": 30,
      "outputs": [
        {
          "output_type": "execute_result",
          "data": {
            "text/plain": [
              "precision              0.255608\n",
              "recall                 0.824524\n",
              "f1                     0.390239\n",
              "threshold              0.205580\n",
              "au_precision_recall    0.211959\n",
              "auroc                  0.569458\n",
              "Name: 168853, dtype: float64"
            ]
          },
          "metadata": {},
          "execution_count": 30
        }
      ]
    },
    {
      "cell_type": "code",
      "source": [
        "# Isolation Forest        \n",
        "forest = IsolationForest(bootstrap=False, contamination=4.161677249308696e-05, max_features=0.6674219692639616, max_samples=0.8646939376341813, random_state=42, verbose=0, warm_start=False)\n",
        "        \n",
        "forest.fit(x_train_feature)\n",
        "y_val_pred = forest.predict(x_val_feature)\n",
        "val_metrics_if = evaluate_predictions(y_val, y_val_pred)\n",
        "y_val_score = forest.decision_function(x_val_feature)\n",
        "val_metrics_if = evaluate_results(y_val, -y_val_score)"
      ],
      "metadata": {
        "id": "9Myr4Uj8CWRu"
      },
      "execution_count": 31,
      "outputs": []
    },
    {
      "cell_type": "code",
      "source": [
        "np.unique(y_val_pred,return_counts=True)"
      ],
      "metadata": {
        "colab": {
          "base_uri": "https://localhost:8080/"
        },
        "id": "PQm2eqkGDh4i",
        "outputId": "b1a710a0-c805-4120-842a-850680eba14f"
      },
      "execution_count": 35,
      "outputs": [
        {
          "output_type": "execute_result",
          "data": {
            "text/plain": [
              "(array([-1,  1]), array([    40, 556108]))"
            ]
          },
          "metadata": {},
          "execution_count": 35
        }
      ]
    },
    {
      "cell_type": "code",
      "source": [
        "val_metrics_if"
      ],
      "metadata": {
        "colab": {
          "base_uri": "https://localhost:8080/"
        },
        "id": "fQ8z0iTUCc0B",
        "outputId": "b88c598f-71f1-40e9-b00f-25ba4c8cfe15"
      },
      "execution_count": 32,
      "outputs": [
        {
          "output_type": "execute_result",
          "data": {
            "text/plain": [
              "precision              0.272511\n",
              "recall                 0.999991\n",
              "f1                     0.428303\n",
              "threshold             -0.291247\n",
              "au_precision_recall    0.207728\n",
              "auroc                  0.572958\n",
              "Name: 3543, dtype: float64"
            ]
          },
          "metadata": {},
          "execution_count": 32
        }
      ]
    },
    {
      "cell_type": "code",
      "source": [
        "from sklearn.decomposition import PCA\n",
        "from sklearn.svm import OneClassSVM\n",
        "\n",
        "pca = PCA(n_components=32, copy=True, whiten=False, svd_solver='auto', tol=0.0, iterated_power='auto', random_state=None)\n",
        "\n",
        "pca = PCA(n_components=32, copy=True, whiten=False, svd_solver='auto', tol=0.0, iterated_power='auto', random_state=None)\n",
        "pca.fit(X_train_s)\n",
        "x_train_feature = pca.transform(X_train_s)\n",
        "x_val_feature = pca.transform(X_val_s)\n",
        "\n",
        "svm = OneClassSVM(kernel='rbf', degree=3, gamma='scale', coef0=0.0, tol=0.001, nu=0.5, shrinking=True, cache_size=200, verbose=False, max_iter=-1)\n",
        "svm.fit(x_train_feature)\n",
        "y_val_pred = svm.predict(x_val_feature)\n",
        "val_metrics = evaluate_predictions(y_val, y_val_pred)\n",
        "\n"
      ],
      "metadata": {
        "id": "vTJk2ISMCeNP"
      },
      "execution_count": 36,
      "outputs": []
    },
    {
      "cell_type": "code",
      "source": [
        "val_metrics"
      ],
      "metadata": {
        "colab": {
          "base_uri": "https://localhost:8080/"
        },
        "id": "aczsID8dDwnC",
        "outputId": "a9cf8e6e-83e5-4ff7-b571-b446cea3f33f"
      },
      "execution_count": 37,
      "outputs": [
        {
          "output_type": "execute_result",
          "data": {
            "text/plain": [
              "{'f1': 0.38086987553626983,\n",
              " 'precision': 0.2657176878112146,\n",
              " 'recall': 0.6721583804160316}"
            ]
          },
          "metadata": {},
          "execution_count": 37
        }
      ]
    },
    {
      "cell_type": "code",
      "source": [
        ""
      ],
      "metadata": {
        "id": "Nyj4Xo65Flqa"
      },
      "execution_count": null,
      "outputs": []
    }
  ]
}